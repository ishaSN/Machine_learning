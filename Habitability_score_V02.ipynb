{
 "cells": [
  {
   "cell_type": "markdown",
   "id": "ede67d59",
   "metadata": {},
   "source": [
    "####  Importing required liabraries"
   ]
  },
  {
   "cell_type": "code",
   "execution_count": 1,
   "id": "12d7b7ea",
   "metadata": {},
   "outputs": [],
   "source": [
    "import pandas as pd\n",
    "import numpy as np\n",
    "import seaborn as sns"
   ]
  },
  {
   "cell_type": "markdown",
   "id": "5448bc83",
   "metadata": {},
   "source": [
    "#### Reading data"
   ]
  },
  {
   "cell_type": "code",
   "execution_count": 2,
   "id": "69896c76",
   "metadata": {},
   "outputs": [],
   "source": [
    "train = pd.read_csv('dataset/train.csv')"
   ]
  },
  {
   "cell_type": "code",
   "execution_count": 3,
   "id": "961e489f",
   "metadata": {},
   "outputs": [],
   "source": [
    "test = pd.read_csv('dataset/test.csv')"
   ]
  },
  {
   "cell_type": "code",
   "execution_count": 4,
   "id": "7ea4ec7e",
   "metadata": {},
   "outputs": [],
   "source": [
    "train1 = pd.read_csv('dataset/train1.csv')"
   ]
  },
  {
   "cell_type": "markdown",
   "id": "040123b3",
   "metadata": {},
   "source": [
    "#### Fill/Treat missing values"
   ]
  },
  {
   "cell_type": "code",
   "execution_count": 5,
   "id": "05ab06e9",
   "metadata": {},
   "outputs": [],
   "source": [
    "train1['Number_of_Windows'].fillna(train1['Number_of_Windows'].mode()[0], inplace=True)\n",
    "train1['Furnishing'].fillna(train1['Furnishing'].mode()[0], inplace=True)\n",
    "train1['Frequency_of_Powercuts'].fillna(train1['Frequency_of_Powercuts'].mode()[0], inplace=True)\n",
    "train1['Crime_Rate'].fillna(train1['Crime_Rate'].mode()[0], inplace=True)\n",
    "train1['Dust_and_Noise'].fillna(train1['Dust_and_Noise'].mode()[0], inplace=True)"
   ]
  },
  {
   "cell_type": "code",
   "execution_count": 6,
   "id": "73e3fc32",
   "metadata": {},
   "outputs": [],
   "source": [
    "train1['Traffic_Density_Score'].fillna(train1['Traffic_Density_Score'].median, inplace=True)"
   ]
  },
  {
   "cell_type": "code",
   "execution_count": 7,
   "id": "addb0b92",
   "metadata": {},
   "outputs": [],
   "source": [
    "train1['Property_Area'].fillna(train1['Property_Area'].median, inplace=True)"
   ]
  },
  {
   "cell_type": "code",
   "execution_count": 8,
   "id": "c39c6e21",
   "metadata": {},
   "outputs": [],
   "source": [
    "test1 = pd.read_csv('dataset/test1.csv')"
   ]
  },
  {
   "cell_type": "code",
   "execution_count": 9,
   "id": "2fb7f1b8",
   "metadata": {},
   "outputs": [],
   "source": [
    "test1['Number_of_Windows'].fillna(test1['Number_of_Windows'].mode()[0], inplace=True)\n",
    "test1['Furnishing'].fillna(test1['Furnishing'].mode()[0], inplace=True)\n",
    "test1['Frequency_of_Powercuts'].fillna(test1['Frequency_of_Powercuts'].mode()[0], inplace=True)\n",
    "test1['Crime_Rate'].fillna(test1['Crime_Rate'].mode()[0], inplace=True)\n",
    "test1['Dust_and_Noise'].fillna(test1['Dust_and_Noise'].mode()[0], inplace=True)"
   ]
  },
  {
   "cell_type": "code",
   "execution_count": 10,
   "id": "deb139ab",
   "metadata": {},
   "outputs": [],
   "source": [
    "test1['Traffic_Density_Score'].fillna(test1['Traffic_Density_Score'].median, inplace=True)\n",
    "test1['Property_Area'].fillna(test1['Property_Area'].median, inplace=True)"
   ]
  },
  {
   "cell_type": "code",
   "execution_count": null,
   "id": "3fb8982c",
   "metadata": {},
   "outputs": [],
   "source": []
  },
  {
   "cell_type": "markdown",
   "id": "fc0d7049",
   "metadata": {},
   "source": [
    "#### Drop irrelevant features"
   ]
  },
  {
   "cell_type": "code",
   "execution_count": 11,
   "id": "e7e13899",
   "metadata": {},
   "outputs": [],
   "source": [
    "train1=train1.drop('Property_ID',axis=1)"
   ]
  },
  {
   "cell_type": "code",
   "execution_count": 12,
   "id": "9eb5f781",
   "metadata": {},
   "outputs": [],
   "source": [
    "test1=test1.drop('Property_ID',axis=1)"
   ]
  },
  {
   "cell_type": "code",
   "execution_count": 13,
   "id": "d150550c",
   "metadata": {},
   "outputs": [],
   "source": [
    "train1=train1.drop('Number_of_Windows',axis=1)\n",
    "test1=test1.drop('Number_of_Windows',axis=1)"
   ]
  },
  {
   "cell_type": "code",
   "execution_count": 14,
   "id": "fa8bca44",
   "metadata": {},
   "outputs": [],
   "source": [
    "train1=train1.drop('Number_of_Doors',axis=1)\n",
    "test1=test1.drop('Number_of_Doors',axis=1)"
   ]
  },
  {
   "cell_type": "code",
   "execution_count": 15,
   "id": "343f0338",
   "metadata": {},
   "outputs": [
    {
     "data": {
      "text/plain": [
       "(39499, 12)"
      ]
     },
     "execution_count": 15,
     "metadata": {},
     "output_type": "execute_result"
    }
   ],
   "source": [
    "train1.shape"
   ]
  },
  {
   "cell_type": "markdown",
   "id": "46759c3f",
   "metadata": {},
   "source": [
    "#### Shape of the datasets"
   ]
  },
  {
   "cell_type": "code",
   "execution_count": 16,
   "id": "15b5764a",
   "metadata": {},
   "outputs": [
    {
     "data": {
      "text/plain": [
       "(39499, 12)"
      ]
     },
     "execution_count": 16,
     "metadata": {},
     "output_type": "execute_result"
    }
   ],
   "source": [
    "train1.shape"
   ]
  },
  {
   "cell_type": "code",
   "execution_count": 17,
   "id": "9b010454",
   "metadata": {},
   "outputs": [
    {
     "data": {
      "text/plain": [
       "(10500, 11)"
      ]
     },
     "execution_count": 17,
     "metadata": {},
     "output_type": "execute_result"
    }
   ],
   "source": [
    "test1.shape"
   ]
  },
  {
   "cell_type": "markdown",
   "id": "234ca5f5",
   "metadata": {},
   "source": [
    "#### Converting categorical features to numerial"
   ]
  },
  {
   "cell_type": "markdown",
   "id": "62dd43d8",
   "metadata": {},
   "source": [
    "##### 1. frequency encoding on train data"
   ]
  },
  {
   "cell_type": "code",
   "execution_count": 18,
   "id": "92a8dd1b",
   "metadata": {},
   "outputs": [],
   "source": [
    "def frequence_encoder(train1,col):\n",
    "    \"\"\"\n",
    "    This function encodes a categorical column based on the frequency of their occurence.\n",
    "    input:\n",
    "        df : Input DataFrame in which encoding has to be created \n",
    "        col : Column name which has to be encoded\n",
    "        target_col : Dependent column to be predicted.\n",
    "    return: \n",
    "          Mean encoded dict for column\n",
    "    \"\"\"\n",
    "    freq_value = train1.groupby(col).size()/len(train1)\n",
    "    freq_dict = freq_value.to_dict()\n",
    "    train1[\"Freq_encoded_\"+col] = train1[col].replace(freq_dict)\n",
    "    return freq_dict"
   ]
  },
  {
   "cell_type": "code",
   "execution_count": 19,
   "id": "5b295c05",
   "metadata": {},
   "outputs": [
    {
     "data": {
      "text/plain": [
       "{'High': 0.08131851439276944,\n",
       " 'Low': 0.05245702422846148,\n",
       " 'Medium': 0.8662244613787691}"
      ]
     },
     "execution_count": 19,
     "metadata": {},
     "output_type": "execute_result"
    }
   ],
   "source": [
    "frequence_encoder(train1,'Property_Type')\n",
    "frequence_encoder(train1,'Furnishing')\n",
    "frequence_encoder(train1,'Power_Backup')\n",
    "frequence_encoder(train1,'Water_Supply')\n",
    "frequence_encoder(train1,'Crime_Rate')\n",
    "frequence_encoder(train1,'Dust_and_Noise')"
   ]
  },
  {
   "cell_type": "code",
   "execution_count": 20,
   "id": "37529aca",
   "metadata": {},
   "outputs": [
    {
     "name": "stdout",
     "output_type": "stream",
     "text": [
      "<class 'pandas.core.frame.DataFrame'>\n",
      "RangeIndex: 39499 entries, 0 to 39498\n",
      "Data columns (total 18 columns):\n",
      " #   Column                       Non-Null Count  Dtype  \n",
      "---  ------                       --------------  -----  \n",
      " 0   Property_Type                39499 non-null  object \n",
      " 1   Property_Area                39499 non-null  int64  \n",
      " 2   Furnishing                   39499 non-null  object \n",
      " 3   Frequency_of_Powercuts       39499 non-null  float64\n",
      " 4   Power_Backup                 39499 non-null  object \n",
      " 5   Water_Supply                 39499 non-null  object \n",
      " 6   Traffic_Density_Score        39499 non-null  float64\n",
      " 7   Crime_Rate                   39499 non-null  object \n",
      " 8   Dust_and_Noise               39499 non-null  object \n",
      " 9   Air_Quality_Index            39499 non-null  int64  \n",
      " 10  Neighborhood_Review          39499 non-null  float64\n",
      " 11  Habitability_score           39499 non-null  float64\n",
      " 12  Freq_encoded_Property_Type   39499 non-null  float64\n",
      " 13  Freq_encoded_Furnishing      39499 non-null  float64\n",
      " 14  Freq_encoded_Power_Backup    39499 non-null  float64\n",
      " 15  Freq_encoded_Water_Supply    39499 non-null  float64\n",
      " 16  Freq_encoded_Crime_Rate      39499 non-null  float64\n",
      " 17  Freq_encoded_Dust_and_Noise  39499 non-null  float64\n",
      "dtypes: float64(10), int64(2), object(6)\n",
      "memory usage: 5.4+ MB\n"
     ]
    }
   ],
   "source": [
    "train1.info()"
   ]
  },
  {
   "cell_type": "markdown",
   "id": "0868a9f0",
   "metadata": {},
   "source": [
    "##### 2. frequency encoding on test data"
   ]
  },
  {
   "cell_type": "code",
   "execution_count": 21,
   "id": "68403d47",
   "metadata": {},
   "outputs": [],
   "source": [
    "train1 = train1.drop(['Property_Type','Furnishing','Power_Backup','Water_Supply','Crime_Rate','Dust_and_Noise'],axis=1)"
   ]
  },
  {
   "cell_type": "code",
   "execution_count": 22,
   "id": "9d8d2c05",
   "metadata": {},
   "outputs": [],
   "source": [
    "def frequence_encoder(test1,col):\n",
    "    \"\"\"\n",
    "    This function encodes a categorical column based on the frequency of their occurence.\n",
    "    input:\n",
    "        df : Input DataFrame in which encoding has to be created \n",
    "        col : Column name which has to be encoded\n",
    "        target_col : Dependent column to be predicted.\n",
    "    return: \n",
    "          Mean encoded dict for column\n",
    "    \"\"\"\n",
    "    freq_value = test1.groupby(col).size()/len(test1)\n",
    "    freq_dict = freq_value.to_dict()\n",
    "    test1[\"Freq_encoded_\"+col] = test1[col].replace(freq_dict)\n",
    "    return freq_dict"
   ]
  },
  {
   "cell_type": "code",
   "execution_count": 23,
   "id": "ed0f69e9",
   "metadata": {},
   "outputs": [
    {
     "data": {
      "text/plain": [
       "{'High': 0.07638095238095238, 'Low': 0.05161904761904762, 'Medium': 0.872}"
      ]
     },
     "execution_count": 23,
     "metadata": {},
     "output_type": "execute_result"
    }
   ],
   "source": [
    "frequence_encoder(test1,'Property_Type')\n",
    "frequence_encoder(test1,'Furnishing')\n",
    "frequence_encoder(test1,'Power_Backup')\n",
    "frequence_encoder(test1,'Water_Supply')\n",
    "frequence_encoder(test1,'Crime_Rate')\n",
    "frequence_encoder(test1,'Dust_and_Noise')"
   ]
  },
  {
   "cell_type": "code",
   "execution_count": 24,
   "id": "adb0a487",
   "metadata": {},
   "outputs": [
    {
     "name": "stdout",
     "output_type": "stream",
     "text": [
      "<class 'pandas.core.frame.DataFrame'>\n",
      "RangeIndex: 10500 entries, 0 to 10499\n",
      "Data columns (total 17 columns):\n",
      " #   Column                       Non-Null Count  Dtype  \n",
      "---  ------                       --------------  -----  \n",
      " 0   Property_Type                10500 non-null  object \n",
      " 1   Property_Area                10500 non-null  int64  \n",
      " 2   Furnishing                   10500 non-null  object \n",
      " 3   Frequency_of_Powercuts       10500 non-null  float64\n",
      " 4   Power_Backup                 10500 non-null  object \n",
      " 5   Water_Supply                 10500 non-null  object \n",
      " 6   Traffic_Density_Score        10500 non-null  float64\n",
      " 7   Crime_Rate                   10500 non-null  object \n",
      " 8   Dust_and_Noise               10500 non-null  object \n",
      " 9   Air_Quality_Index            10500 non-null  int64  \n",
      " 10  Neighborhood_Review          10500 non-null  float64\n",
      " 11  Freq_encoded_Property_Type   10500 non-null  float64\n",
      " 12  Freq_encoded_Furnishing      10500 non-null  float64\n",
      " 13  Freq_encoded_Power_Backup    10500 non-null  float64\n",
      " 14  Freq_encoded_Water_Supply    10500 non-null  float64\n",
      " 15  Freq_encoded_Crime_Rate      10500 non-null  float64\n",
      " 16  Freq_encoded_Dust_and_Noise  10500 non-null  float64\n",
      "dtypes: float64(9), int64(2), object(6)\n",
      "memory usage: 1.4+ MB\n"
     ]
    }
   ],
   "source": [
    "test1.info()"
   ]
  },
  {
   "cell_type": "code",
   "execution_count": 25,
   "id": "6a21a4e7",
   "metadata": {},
   "outputs": [],
   "source": [
    "test1 = test1.drop(['Property_Type','Furnishing','Power_Backup','Water_Supply','Crime_Rate','Dust_and_Noise'],axis=1)"
   ]
  },
  {
   "cell_type": "markdown",
   "id": "a54b88fe",
   "metadata": {},
   "source": [
    "#### Test and train data"
   ]
  },
  {
   "cell_type": "code",
   "execution_count": 26,
   "id": "d79c041a",
   "metadata": {},
   "outputs": [
    {
     "name": "stderr",
     "output_type": "stream",
     "text": [
      "<ipython-input-26-d4b64b60d038>:1: FutureWarning: In a future version of pandas all arguments of DataFrame.drop except for the argument 'labels' will be keyword-only.\n",
      "  X = train1.drop('Habitability_score', 1)\n"
     ]
    }
   ],
   "source": [
    "X = train1.drop('Habitability_score', 1)\n",
    "y = train1.Habitability_score"
   ]
  },
  {
   "cell_type": "code",
   "execution_count": 27,
   "id": "9ef3ce82",
   "metadata": {},
   "outputs": [],
   "source": [
    "X = pd.get_dummies(X)\n",
    "train1 = pd.get_dummies(train1)\n",
    "test1 = pd.get_dummies(test1)"
   ]
  },
  {
   "cell_type": "code",
   "execution_count": 28,
   "id": "0b00db09",
   "metadata": {},
   "outputs": [],
   "source": [
    "from sklearn.model_selection import train_test_split\n",
    "\n",
    "x_train, x_test, y_train, y_test = train_test_split(X,y,test_size=0.3)"
   ]
  },
  {
   "cell_type": "markdown",
   "id": "87ed1f1e",
   "metadata": {},
   "source": [
    "#### Baseline model fitting"
   ]
  },
  {
   "cell_type": "code",
   "execution_count": 29,
   "id": "a9b28ad4",
   "metadata": {},
   "outputs": [],
   "source": [
    "from sklearn import linear_model\n",
    "from sklearn import metrics"
   ]
  },
  {
   "cell_type": "code",
   "execution_count": 30,
   "id": "c37e0026",
   "metadata": {},
   "outputs": [
    {
     "data": {
      "text/plain": [
       "(0.391322713594921, 0.39359184594949126)"
      ]
     },
     "execution_count": 30,
     "metadata": {},
     "output_type": "execute_result"
    }
   ],
   "source": [
    "reg = linear_model.LinearRegression()\n",
    "reg.fit(x_train,y_train)\n",
    "metrics.r2_score(y_train,reg.predict(x_train)), metrics.r2_score(y_test,reg.predict(x_test))"
   ]
  },
  {
   "cell_type": "markdown",
   "id": "dbd5620f",
   "metadata": {},
   "source": [
    "Baselime model accuracy \n",
    "\n",
    "\n",
    "Train:0.39268823338002445\n",
    "\n",
    "Test: 0.39045155432470235"
   ]
  },
  {
   "cell_type": "code",
   "execution_count": 31,
   "id": "f35ba743",
   "metadata": {},
   "outputs": [
    {
     "data": {
      "text/html": [
       "<div>\n",
       "<style scoped>\n",
       "    .dataframe tbody tr th:only-of-type {\n",
       "        vertical-align: middle;\n",
       "    }\n",
       "\n",
       "    .dataframe tbody tr th {\n",
       "        vertical-align: top;\n",
       "    }\n",
       "\n",
       "    .dataframe thead th {\n",
       "        text-align: right;\n",
       "    }\n",
       "</style>\n",
       "<table border=\"1\" class=\"dataframe\">\n",
       "  <thead>\n",
       "    <tr style=\"text-align: right;\">\n",
       "      <th></th>\n",
       "      <th>Property_Area</th>\n",
       "      <th>Frequency_of_Powercuts</th>\n",
       "      <th>Traffic_Density_Score</th>\n",
       "      <th>Air_Quality_Index</th>\n",
       "      <th>Neighborhood_Review</th>\n",
       "      <th>Freq_encoded_Property_Type</th>\n",
       "      <th>Freq_encoded_Furnishing</th>\n",
       "      <th>Freq_encoded_Power_Backup</th>\n",
       "      <th>Freq_encoded_Water_Supply</th>\n",
       "      <th>Freq_encoded_Crime_Rate</th>\n",
       "      <th>Freq_encoded_Dust_and_Noise</th>\n",
       "    </tr>\n",
       "  </thead>\n",
       "  <tbody>\n",
       "    <tr>\n",
       "      <th>4379</th>\n",
       "      <td>222</td>\n",
       "      <td>0.0</td>\n",
       "      <td>5.27</td>\n",
       "      <td>88</td>\n",
       "      <td>4.18</td>\n",
       "      <td>0.369528</td>\n",
       "      <td>0.541761</td>\n",
       "      <td>0.773235</td>\n",
       "      <td>0.502696</td>\n",
       "      <td>0.293172</td>\n",
       "      <td>0.866224</td>\n",
       "    </tr>\n",
       "    <tr>\n",
       "      <th>21272</th>\n",
       "      <td>460</td>\n",
       "      <td>0.0</td>\n",
       "      <td>6.81</td>\n",
       "      <td>82</td>\n",
       "      <td>2.61</td>\n",
       "      <td>0.369528</td>\n",
       "      <td>0.541761</td>\n",
       "      <td>0.226765</td>\n",
       "      <td>0.048887</td>\n",
       "      <td>0.134257</td>\n",
       "      <td>0.866224</td>\n",
       "    </tr>\n",
       "    <tr>\n",
       "      <th>18488</th>\n",
       "      <td>2004</td>\n",
       "      <td>0.0</td>\n",
       "      <td>7.05</td>\n",
       "      <td>104</td>\n",
       "      <td>4.78</td>\n",
       "      <td>0.290564</td>\n",
       "      <td>0.541761</td>\n",
       "      <td>0.773235</td>\n",
       "      <td>0.502696</td>\n",
       "      <td>0.512899</td>\n",
       "      <td>0.866224</td>\n",
       "    </tr>\n",
       "    <tr>\n",
       "      <th>21953</th>\n",
       "      <td>930</td>\n",
       "      <td>0.0</td>\n",
       "      <td>7.59</td>\n",
       "      <td>88</td>\n",
       "      <td>4.80</td>\n",
       "      <td>0.012912</td>\n",
       "      <td>0.261880</td>\n",
       "      <td>0.773235</td>\n",
       "      <td>0.502696</td>\n",
       "      <td>0.512899</td>\n",
       "      <td>0.866224</td>\n",
       "    </tr>\n",
       "    <tr>\n",
       "      <th>35556</th>\n",
       "      <td>1615</td>\n",
       "      <td>1.0</td>\n",
       "      <td>7.23</td>\n",
       "      <td>160</td>\n",
       "      <td>3.70</td>\n",
       "      <td>0.290564</td>\n",
       "      <td>0.541761</td>\n",
       "      <td>0.773235</td>\n",
       "      <td>0.250563</td>\n",
       "      <td>0.512899</td>\n",
       "      <td>0.081319</td>\n",
       "    </tr>\n",
       "  </tbody>\n",
       "</table>\n",
       "</div>"
      ],
      "text/plain": [
       "       Property_Area  Frequency_of_Powercuts  Traffic_Density_Score  \\\n",
       "4379             222                     0.0                   5.27   \n",
       "21272            460                     0.0                   6.81   \n",
       "18488           2004                     0.0                   7.05   \n",
       "21953            930                     0.0                   7.59   \n",
       "35556           1615                     1.0                   7.23   \n",
       "\n",
       "       Air_Quality_Index  Neighborhood_Review  Freq_encoded_Property_Type  \\\n",
       "4379                  88                 4.18                    0.369528   \n",
       "21272                 82                 2.61                    0.369528   \n",
       "18488                104                 4.78                    0.290564   \n",
       "21953                 88                 4.80                    0.012912   \n",
       "35556                160                 3.70                    0.290564   \n",
       "\n",
       "       Freq_encoded_Furnishing  Freq_encoded_Power_Backup  \\\n",
       "4379                  0.541761                   0.773235   \n",
       "21272                 0.541761                   0.226765   \n",
       "18488                 0.541761                   0.773235   \n",
       "21953                 0.261880                   0.773235   \n",
       "35556                 0.541761                   0.773235   \n",
       "\n",
       "       Freq_encoded_Water_Supply  Freq_encoded_Crime_Rate  \\\n",
       "4379                    0.502696                 0.293172   \n",
       "21272                   0.048887                 0.134257   \n",
       "18488                   0.502696                 0.512899   \n",
       "21953                   0.502696                 0.512899   \n",
       "35556                   0.250563                 0.512899   \n",
       "\n",
       "       Freq_encoded_Dust_and_Noise  \n",
       "4379                      0.866224  \n",
       "21272                     0.866224  \n",
       "18488                     0.866224  \n",
       "21953                     0.866224  \n",
       "35556                     0.081319  "
      ]
     },
     "execution_count": 31,
     "metadata": {},
     "output_type": "execute_result"
    }
   ],
   "source": [
    "x_train.head()"
   ]
  },
  {
   "cell_type": "code",
   "execution_count": 32,
   "id": "83cb9113",
   "metadata": {},
   "outputs": [
    {
     "data": {
      "text/plain": [
       "Index(['Property_Area', 'Frequency_of_Powercuts', 'Traffic_Density_Score',\n",
       "       'Air_Quality_Index', 'Neighborhood_Review',\n",
       "       'Freq_encoded_Property_Type', 'Freq_encoded_Furnishing',\n",
       "       'Freq_encoded_Power_Backup', 'Freq_encoded_Water_Supply',\n",
       "       'Freq_encoded_Crime_Rate', 'Freq_encoded_Dust_and_Noise'],\n",
       "      dtype='object')"
      ]
     },
     "execution_count": 32,
     "metadata": {},
     "output_type": "execute_result"
    }
   ],
   "source": [
    "x_train.columns"
   ]
  },
  {
   "cell_type": "markdown",
   "id": "d4f44d45",
   "metadata": {},
   "source": [
    "#### Scalig of data"
   ]
  },
  {
   "cell_type": "code",
   "execution_count": 33,
   "id": "eae3ae6b",
   "metadata": {},
   "outputs": [
    {
     "data": {
      "text/html": [
       "<div>\n",
       "<style scoped>\n",
       "    .dataframe tbody tr th:only-of-type {\n",
       "        vertical-align: middle;\n",
       "    }\n",
       "\n",
       "    .dataframe tbody tr th {\n",
       "        vertical-align: top;\n",
       "    }\n",
       "\n",
       "    .dataframe thead th {\n",
       "        text-align: right;\n",
       "    }\n",
       "</style>\n",
       "<table border=\"1\" class=\"dataframe\">\n",
       "  <thead>\n",
       "    <tr style=\"text-align: right;\">\n",
       "      <th></th>\n",
       "      <th>Property_Area</th>\n",
       "      <th>Frequency_of_Powercuts</th>\n",
       "      <th>Traffic_Density_Score</th>\n",
       "      <th>Air_Quality_Index</th>\n",
       "      <th>Neighborhood_Review</th>\n",
       "      <th>Habitability_score</th>\n",
       "      <th>Freq_encoded_Property_Type</th>\n",
       "      <th>Freq_encoded_Furnishing</th>\n",
       "      <th>Freq_encoded_Power_Backup</th>\n",
       "      <th>Freq_encoded_Water_Supply</th>\n",
       "      <th>Freq_encoded_Crime_Rate</th>\n",
       "      <th>Freq_encoded_Dust_and_Noise</th>\n",
       "    </tr>\n",
       "  </thead>\n",
       "  <tbody>\n",
       "    <tr>\n",
       "      <th>0</th>\n",
       "      <td>0.000215</td>\n",
       "      <td>0.000000</td>\n",
       "      <td>0.594349</td>\n",
       "      <td>0.086207</td>\n",
       "      <td>0.772</td>\n",
       "      <td>71.98</td>\n",
       "      <td>0.369528</td>\n",
       "      <td>0.541761</td>\n",
       "      <td>0.773235</td>\n",
       "      <td>0.250563</td>\n",
       "      <td>0.293172</td>\n",
       "      <td>0.866224</td>\n",
       "    </tr>\n",
       "    <tr>\n",
       "      <th>1</th>\n",
       "      <td>0.022636</td>\n",
       "      <td>0.333333</td>\n",
       "      <td>0.440969</td>\n",
       "      <td>0.091954</td>\n",
       "      <td>0.710</td>\n",
       "      <td>71.20</td>\n",
       "      <td>0.369528</td>\n",
       "      <td>0.261880</td>\n",
       "      <td>0.773235</td>\n",
       "      <td>0.197853</td>\n",
       "      <td>0.512899</td>\n",
       "      <td>0.866224</td>\n",
       "    </tr>\n",
       "    <tr>\n",
       "      <th>2</th>\n",
       "      <td>0.022779</td>\n",
       "      <td>0.000000</td>\n",
       "      <td>0.751766</td>\n",
       "      <td>0.115900</td>\n",
       "      <td>0.762</td>\n",
       "      <td>71.39</td>\n",
       "      <td>0.369528</td>\n",
       "      <td>0.196359</td>\n",
       "      <td>0.773235</td>\n",
       "      <td>0.250563</td>\n",
       "      <td>0.293172</td>\n",
       "      <td>0.866224</td>\n",
       "    </tr>\n",
       "    <tr>\n",
       "      <th>3</th>\n",
       "      <td>0.028608</td>\n",
       "      <td>0.666667</td>\n",
       "      <td>0.621594</td>\n",
       "      <td>0.095785</td>\n",
       "      <td>0.268</td>\n",
       "      <td>31.46</td>\n",
       "      <td>0.369528</td>\n",
       "      <td>0.261880</td>\n",
       "      <td>0.226765</td>\n",
       "      <td>0.250563</td>\n",
       "      <td>0.059672</td>\n",
       "      <td>0.866224</td>\n",
       "    </tr>\n",
       "    <tr>\n",
       "      <th>4</th>\n",
       "      <td>0.076455</td>\n",
       "      <td>0.000000</td>\n",
       "      <td>0.550959</td>\n",
       "      <td>0.111111</td>\n",
       "      <td>0.954</td>\n",
       "      <td>93.70</td>\n",
       "      <td>0.107294</td>\n",
       "      <td>0.196359</td>\n",
       "      <td>0.773235</td>\n",
       "      <td>0.502696</td>\n",
       "      <td>0.512899</td>\n",
       "      <td>0.866224</td>\n",
       "    </tr>\n",
       "  </tbody>\n",
       "</table>\n",
       "</div>"
      ],
      "text/plain": [
       "   Property_Area  Frequency_of_Powercuts  Traffic_Density_Score  \\\n",
       "0       0.000215                0.000000               0.594349   \n",
       "1       0.022636                0.333333               0.440969   \n",
       "2       0.022779                0.000000               0.751766   \n",
       "3       0.028608                0.666667               0.621594   \n",
       "4       0.076455                0.000000               0.550959   \n",
       "\n",
       "   Air_Quality_Index  Neighborhood_Review  Habitability_score  \\\n",
       "0           0.086207                0.772               71.98   \n",
       "1           0.091954                0.710               71.20   \n",
       "2           0.115900                0.762               71.39   \n",
       "3           0.095785                0.268               31.46   \n",
       "4           0.111111                0.954               93.70   \n",
       "\n",
       "   Freq_encoded_Property_Type  Freq_encoded_Furnishing  \\\n",
       "0                    0.369528                 0.541761   \n",
       "1                    0.369528                 0.261880   \n",
       "2                    0.369528                 0.196359   \n",
       "3                    0.369528                 0.261880   \n",
       "4                    0.107294                 0.196359   \n",
       "\n",
       "   Freq_encoded_Power_Backup  Freq_encoded_Water_Supply  \\\n",
       "0                   0.773235                   0.250563   \n",
       "1                   0.773235                   0.197853   \n",
       "2                   0.773235                   0.250563   \n",
       "3                   0.226765                   0.250563   \n",
       "4                   0.773235                   0.502696   \n",
       "\n",
       "   Freq_encoded_Crime_Rate  Freq_encoded_Dust_and_Noise  \n",
       "0                 0.293172                     0.866224  \n",
       "1                 0.512899                     0.866224  \n",
       "2                 0.293172                     0.866224  \n",
       "3                 0.059672                     0.866224  \n",
       "4                 0.512899                     0.866224  "
      ]
     },
     "execution_count": 33,
     "metadata": {},
     "output_type": "execute_result"
    }
   ],
   "source": [
    "from sklearn.preprocessing import MinMaxScaler\n",
    "scaler = MinMaxScaler()\n",
    "\n",
    "train1[['Property_Area', 'Frequency_of_Powercuts', 'Traffic_Density_Score','Air_Quality_Index','Neighborhood_Review']] = scaler.fit_transform(train1[['Property_Area', 'Frequency_of_Powercuts', 'Traffic_Density_Score','Air_Quality_Index','Neighborhood_Review']])\n",
    "\n",
    "train1.head()"
   ]
  },
  {
   "cell_type": "code",
   "execution_count": 34,
   "id": "76d614f0",
   "metadata": {},
   "outputs": [
    {
     "name": "stderr",
     "output_type": "stream",
     "text": [
      "<ipython-input-34-d4b64b60d038>:1: FutureWarning: In a future version of pandas all arguments of DataFrame.drop except for the argument 'labels' will be keyword-only.\n",
      "  X = train1.drop('Habitability_score', 1)\n"
     ]
    }
   ],
   "source": [
    "X = train1.drop('Habitability_score', 1)\n",
    "y = train1.Habitability_score"
   ]
  },
  {
   "cell_type": "code",
   "execution_count": 35,
   "id": "2ea1bae3",
   "metadata": {},
   "outputs": [
    {
     "data": {
      "text/plain": [
       "(0.39181395706707844, 0.39243778313164335)"
      ]
     },
     "execution_count": 35,
     "metadata": {},
     "output_type": "execute_result"
    }
   ],
   "source": [
    "x_train, x_test, y_train, y_test = train_test_split(X,y,test_size=0.3)\n",
    "reg = linear_model.LinearRegression()\n",
    "reg.fit(x_train,y_train)\n",
    "metrics.r2_score(y_train,reg.predict(x_train)), metrics.r2_score(y_test,reg.predict(x_test))"
   ]
  },
  {
   "cell_type": "markdown",
   "id": "5a34a34b",
   "metadata": {},
   "source": [
    "When Baselime model is scaled and trained, the accuracy of train data increases and that of test data decreases\n",
    "\n",
    "\n",
    "Train:0.3993308654176302\n",
    "\n",
    "Test: 0.3743658802649421"
   ]
  },
  {
   "cell_type": "code",
   "execution_count": 36,
   "id": "f611a3f0",
   "metadata": {},
   "outputs": [],
   "source": [
    "from sklearn.preprocessing import StandardScaler\n",
    "from sklearn.model_selection import train_test_split\n",
    "from sklearn.preprocessing import PolynomialFeatures\n",
    "from sklearn.pipeline import make_pipeline\n",
    "from sklearn.preprocessing import PowerTransformer\n",
    "from sklearn.preprocessing import RobustScaler\n",
    "from sklearn.preprocessing import SplineTransformer"
   ]
  },
  {
   "cell_type": "code",
   "execution_count": 37,
   "id": "1dbe0a43",
   "metadata": {},
   "outputs": [],
   "source": [
    "from sklearn import linear_model\n",
    "from sklearn import metrics"
   ]
  },
  {
   "cell_type": "markdown",
   "id": "92baf48f",
   "metadata": {},
   "source": [
    "#### Make pipeline"
   ]
  },
  {
   "cell_type": "code",
   "execution_count": 38,
   "id": "5d859a48",
   "metadata": {},
   "outputs": [
    {
     "data": {
      "text/html": [
       "<style>#sk-container-id-1 {color: black;background-color: white;}#sk-container-id-1 pre{padding: 0;}#sk-container-id-1 div.sk-toggleable {background-color: white;}#sk-container-id-1 label.sk-toggleable__label {cursor: pointer;display: block;width: 100%;margin-bottom: 0;padding: 0.3em;box-sizing: border-box;text-align: center;}#sk-container-id-1 label.sk-toggleable__label-arrow:before {content: \"▸\";float: left;margin-right: 0.25em;color: #696969;}#sk-container-id-1 label.sk-toggleable__label-arrow:hover:before {color: black;}#sk-container-id-1 div.sk-estimator:hover label.sk-toggleable__label-arrow:before {color: black;}#sk-container-id-1 div.sk-toggleable__content {max-height: 0;max-width: 0;overflow: hidden;text-align: left;background-color: #f0f8ff;}#sk-container-id-1 div.sk-toggleable__content pre {margin: 0.2em;color: black;border-radius: 0.25em;background-color: #f0f8ff;}#sk-container-id-1 input.sk-toggleable__control:checked~div.sk-toggleable__content {max-height: 200px;max-width: 100%;overflow: auto;}#sk-container-id-1 input.sk-toggleable__control:checked~label.sk-toggleable__label-arrow:before {content: \"▾\";}#sk-container-id-1 div.sk-estimator input.sk-toggleable__control:checked~label.sk-toggleable__label {background-color: #d4ebff;}#sk-container-id-1 div.sk-label input.sk-toggleable__control:checked~label.sk-toggleable__label {background-color: #d4ebff;}#sk-container-id-1 input.sk-hidden--visually {border: 0;clip: rect(1px 1px 1px 1px);clip: rect(1px, 1px, 1px, 1px);height: 1px;margin: -1px;overflow: hidden;padding: 0;position: absolute;width: 1px;}#sk-container-id-1 div.sk-estimator {font-family: monospace;background-color: #f0f8ff;border: 1px dotted black;border-radius: 0.25em;box-sizing: border-box;margin-bottom: 0.5em;}#sk-container-id-1 div.sk-estimator:hover {background-color: #d4ebff;}#sk-container-id-1 div.sk-parallel-item::after {content: \"\";width: 100%;border-bottom: 1px solid gray;flex-grow: 1;}#sk-container-id-1 div.sk-label:hover label.sk-toggleable__label {background-color: #d4ebff;}#sk-container-id-1 div.sk-serial::before {content: \"\";position: absolute;border-left: 1px solid gray;box-sizing: border-box;top: 0;bottom: 0;left: 50%;z-index: 0;}#sk-container-id-1 div.sk-serial {display: flex;flex-direction: column;align-items: center;background-color: white;padding-right: 0.2em;padding-left: 0.2em;position: relative;}#sk-container-id-1 div.sk-item {position: relative;z-index: 1;}#sk-container-id-1 div.sk-parallel {display: flex;align-items: stretch;justify-content: center;background-color: white;position: relative;}#sk-container-id-1 div.sk-item::before, #sk-container-id-1 div.sk-parallel-item::before {content: \"\";position: absolute;border-left: 1px solid gray;box-sizing: border-box;top: 0;bottom: 0;left: 50%;z-index: -1;}#sk-container-id-1 div.sk-parallel-item {display: flex;flex-direction: column;z-index: 1;position: relative;background-color: white;}#sk-container-id-1 div.sk-parallel-item:first-child::after {align-self: flex-end;width: 50%;}#sk-container-id-1 div.sk-parallel-item:last-child::after {align-self: flex-start;width: 50%;}#sk-container-id-1 div.sk-parallel-item:only-child::after {width: 0;}#sk-container-id-1 div.sk-dashed-wrapped {border: 1px dashed gray;margin: 0 0.4em 0.5em 0.4em;box-sizing: border-box;padding-bottom: 0.4em;background-color: white;}#sk-container-id-1 div.sk-label label {font-family: monospace;font-weight: bold;display: inline-block;line-height: 1.2em;}#sk-container-id-1 div.sk-label-container {text-align: center;}#sk-container-id-1 div.sk-container {/* jupyter's `normalize.less` sets `[hidden] { display: none; }` but bootstrap.min.css set `[hidden] { display: none !important; }` so we also need the `!important` here to be able to override the default hidden behavior on the sphinx rendered scikit-learn.org. See: https://github.com/scikit-learn/scikit-learn/issues/21755 */display: inline-block !important;position: relative;}#sk-container-id-1 div.sk-text-repr-fallback {display: none;}</style><div id=\"sk-container-id-1\" class=\"sk-top-container\"><div class=\"sk-text-repr-fallback\"><pre>Pipeline(steps=[(&#x27;powertransformer&#x27;, PowerTransformer()),\n",
       "                (&#x27;polynomialfeatures&#x27;, PolynomialFeatures(degree=3)),\n",
       "                (&#x27;robustscaler&#x27;, RobustScaler()),\n",
       "                (&#x27;linearregression&#x27;, LinearRegression())])</pre><b>In a Jupyter environment, please rerun this cell to show the HTML representation or trust the notebook. <br />On GitHub, the HTML representation is unable to render, please try loading this page with nbviewer.org.</b></div><div class=\"sk-container\" hidden><div class=\"sk-item sk-dashed-wrapped\"><div class=\"sk-label-container\"><div class=\"sk-label sk-toggleable\"><input class=\"sk-toggleable__control sk-hidden--visually\" id=\"sk-estimator-id-1\" type=\"checkbox\" ><label for=\"sk-estimator-id-1\" class=\"sk-toggleable__label sk-toggleable__label-arrow\">Pipeline</label><div class=\"sk-toggleable__content\"><pre>Pipeline(steps=[(&#x27;powertransformer&#x27;, PowerTransformer()),\n",
       "                (&#x27;polynomialfeatures&#x27;, PolynomialFeatures(degree=3)),\n",
       "                (&#x27;robustscaler&#x27;, RobustScaler()),\n",
       "                (&#x27;linearregression&#x27;, LinearRegression())])</pre></div></div></div><div class=\"sk-serial\"><div class=\"sk-item\"><div class=\"sk-estimator sk-toggleable\"><input class=\"sk-toggleable__control sk-hidden--visually\" id=\"sk-estimator-id-2\" type=\"checkbox\" ><label for=\"sk-estimator-id-2\" class=\"sk-toggleable__label sk-toggleable__label-arrow\">PowerTransformer</label><div class=\"sk-toggleable__content\"><pre>PowerTransformer()</pre></div></div></div><div class=\"sk-item\"><div class=\"sk-estimator sk-toggleable\"><input class=\"sk-toggleable__control sk-hidden--visually\" id=\"sk-estimator-id-3\" type=\"checkbox\" ><label for=\"sk-estimator-id-3\" class=\"sk-toggleable__label sk-toggleable__label-arrow\">PolynomialFeatures</label><div class=\"sk-toggleable__content\"><pre>PolynomialFeatures(degree=3)</pre></div></div></div><div class=\"sk-item\"><div class=\"sk-estimator sk-toggleable\"><input class=\"sk-toggleable__control sk-hidden--visually\" id=\"sk-estimator-id-4\" type=\"checkbox\" ><label for=\"sk-estimator-id-4\" class=\"sk-toggleable__label sk-toggleable__label-arrow\">RobustScaler</label><div class=\"sk-toggleable__content\"><pre>RobustScaler()</pre></div></div></div><div class=\"sk-item\"><div class=\"sk-estimator sk-toggleable\"><input class=\"sk-toggleable__control sk-hidden--visually\" id=\"sk-estimator-id-5\" type=\"checkbox\" ><label for=\"sk-estimator-id-5\" class=\"sk-toggleable__label sk-toggleable__label-arrow\">LinearRegression</label><div class=\"sk-toggleable__content\"><pre>LinearRegression()</pre></div></div></div></div></div></div></div>"
      ],
      "text/plain": [
       "Pipeline(steps=[('powertransformer', PowerTransformer()),\n",
       "                ('polynomialfeatures', PolynomialFeatures(degree=3)),\n",
       "                ('robustscaler', RobustScaler()),\n",
       "                ('linearregression', LinearRegression())])"
      ]
     },
     "execution_count": 38,
     "metadata": {},
     "output_type": "execute_result"
    }
   ],
   "source": [
    "# Overfitted model\n",
    "\n",
    "pipe = make_pipeline(PowerTransformer(),PolynomialFeatures(3),RobustScaler(),linear_model.LinearRegression())\n",
    "pipe.fit(x_train, y_train)"
   ]
  },
  {
   "cell_type": "code",
   "execution_count": 43,
   "id": "6017d3dd",
   "metadata": {},
   "outputs": [
    {
     "data": {
      "text/plain": [
       "(0.7381896031681949, 0.7186525401961842)"
      ]
     },
     "execution_count": 43,
     "metadata": {},
     "output_type": "execute_result"
    }
   ],
   "source": [
    "pipe = make_pipeline(PowerTransformer(),PolynomialFeatures(3),RobustScaler(),linear_model.LinearRegression())\n",
    "pipe.fit(x_train, y_train)\n",
    "\n",
    "metrics.r2_score(y_train,pipe.predict(x_train)),metrics.r2_score(y_test,pipe.predict(x_test))"
   ]
  },
  {
   "cell_type": "code",
   "execution_count": 44,
   "id": "5cf130ae",
   "metadata": {},
   "outputs": [
    {
     "name": "stdout",
     "output_type": "stream",
     "text": [
      "0.7993149556241681 0.7630146045106776\n"
     ]
    }
   ],
   "source": [
    "pipe = make_pipeline(PowerTransformer(),PolynomialFeatures(4),RobustScaler(),linear_model.LinearRegression())\n",
    "pipe.fit(x_train, y_train)\n",
    "\n",
    "print(metrics.r2_score(y_train,pipe.predict(x_train)),metrics.r2_score(y_test,pipe.predict(x_test)))"
   ]
  },
  {
   "cell_type": "code",
   "execution_count": 41,
   "id": "f691e14e",
   "metadata": {},
   "outputs": [
    {
     "name": "stdout",
     "output_type": "stream",
     "text": [
      "0.8631187406489289 -45980049724.23167\n"
     ]
    }
   ],
   "source": [
    "pipe = make_pipeline(PowerTransformer(),PolynomialFeatures(4),SplineTransformer(degree=2, n_knots=5),RobustScaler(), \\\n",
    "                     linear_model.LinearRegression())\n",
    "pipe.fit(x_train, y_train)\n",
    "\n",
    "print(metrics.r2_score(y_train,pipe.predict(x_train)),metrics.r2_score(y_test,pipe.predict(x_test)))"
   ]
  },
  {
   "cell_type": "code",
   "execution_count": 42,
   "id": "21f4f388",
   "metadata": {},
   "outputs": [
    {
     "name": "stdout",
     "output_type": "stream",
     "text": [
      "0.7462044436313067 0.7286517392626175\n"
     ]
    }
   ],
   "source": [
    "pipe = make_pipeline(PowerTransformer(),PolynomialFeatures(4),RobustScaler(),linear_model.LassoLars(alpha=.1, normalize=False))\n",
    "pipe.fit(x_train, y_train)\n",
    "\n",
    "print(metrics.r2_score(y_train,pipe.predict(x_train)),metrics.r2_score(y_test,pipe.predict(x_test)))"
   ]
  },
  {
   "cell_type": "code",
   "execution_count": 43,
   "id": "d4784785",
   "metadata": {},
   "outputs": [
    {
     "data": {
      "text/plain": [
       "(0.7105546105856839, 0.6947816268457367)"
      ]
     },
     "execution_count": 43,
     "metadata": {},
     "output_type": "execute_result"
    }
   ],
   "source": [
    "# Regularised model\n",
    "pipe = make_pipeline(PowerTransformer(),PolynomialFeatures(4),SplineTransformer(degree=2, n_knots=5),RobustScaler(), \\\n",
    "                     linear_model.LassoLars(alpha=.1, normalize=False))\n",
    "pipe.fit(x_train, y_train)\n",
    "\n",
    "metrics.r2_score(y_train,pipe.predict(x_train)),metrics.r2_score(y_test,pipe.predict(x_test))"
   ]
  },
  {
   "cell_type": "code",
   "execution_count": 45,
   "id": "8e621c91",
   "metadata": {},
   "outputs": [],
   "source": [
    "from sklearn.model_selection import RandomizedSearchCV\n",
    "from sklearn.model_selection import GridSearchCV\n",
    "from sklearn.neighbors import KNeighborsRegressor\n",
    "from sklearn.ensemble import RandomForestRegressor\n",
    "from sklearn.tree import DecisionTreeRegressor"
   ]
  },
  {
   "cell_type": "code",
   "execution_count": 46,
   "id": "7e964ffa",
   "metadata": {},
   "outputs": [
    {
     "name": "stdout",
     "output_type": "stream",
     "text": [
      "0.776613654142635 0.6474028472442682\n"
     ]
    }
   ],
   "source": [
    "k_range = list(range(1, 8))\n",
    "params = dict(n_neighbors = k_range)\n",
    "knn_regressor = GridSearchCV(KNeighborsRegressor(), params, cv =10, scoring = 'neg_mean_squared_error')\n",
    "knn_regressor.fit(x_train, y_train)\n",
    "print(metrics.r2_score(y_train,knn_regressor.predict(x_train)),metrics.r2_score(y_test,knn_regressor.predict(x_test)))"
   ]
  },
  {
   "cell_type": "code",
   "execution_count": 47,
   "id": "7a835c4d",
   "metadata": {},
   "outputs": [
    {
     "data": {
      "text/plain": [
       "<bound method BaseEstimator.get_params of GridSearchCV(cv=10, estimator=KNeighborsRegressor(),\n",
       "             param_grid={'n_neighbors': [1, 2, 3, 4, 5, 6, 7]},\n",
       "             scoring='neg_mean_squared_error')>"
      ]
     },
     "execution_count": 47,
     "metadata": {},
     "output_type": "execute_result"
    }
   ],
   "source": [
    "knn_regressor.get_params"
   ]
  },
  {
   "cell_type": "code",
   "execution_count": 48,
   "id": "a2a757a3",
   "metadata": {},
   "outputs": [
    {
     "data": {
      "text/plain": [
       "{'n_neighbors': 5}"
      ]
     },
     "execution_count": 48,
     "metadata": {},
     "output_type": "execute_result"
    }
   ],
   "source": [
    "knn_regressor.best_params_"
   ]
  },
  {
   "cell_type": "code",
   "execution_count": 50,
   "id": "4d859d1d",
   "metadata": {},
   "outputs": [
    {
     "name": "stdout",
     "output_type": "stream",
     "text": [
      "0.7728565382761448 0.7417889041320842\n"
     ]
    }
   ],
   "source": [
    "depth  =list(range(3,8))\n",
    "param_grid =dict(max_depth =depth)\n",
    "tree =GridSearchCV(DecisionTreeRegressor(),param_grid,cv =10)\n",
    "tree.fit(x_train,y_train)\n",
    "print(metrics.r2_score(y_train,tree.predict(x_train)),metrics.r2_score(y_test,tree.predict(x_test)))"
   ]
  },
  {
   "cell_type": "code",
   "execution_count": 51,
   "id": "78a95c05",
   "metadata": {},
   "outputs": [
    {
     "data": {
      "text/plain": [
       "<bound method BaseEstimator.get_params of GridSearchCV(cv=10, estimator=DecisionTreeRegressor(),\n",
       "             param_grid={'max_depth': [3, 4, 5, 6, 7]})>"
      ]
     },
     "execution_count": 51,
     "metadata": {},
     "output_type": "execute_result"
    }
   ],
   "source": [
    "tree.get_params"
   ]
  },
  {
   "cell_type": "code",
   "execution_count": 52,
   "id": "9ba26e78",
   "metadata": {},
   "outputs": [
    {
     "data": {
      "text/plain": [
       "{'max_depth': 7}"
      ]
     },
     "execution_count": 52,
     "metadata": {},
     "output_type": "execute_result"
    }
   ],
   "source": [
    "tree.best_params_"
   ]
  },
  {
   "cell_type": "code",
   "execution_count": 53,
   "id": "b721cb14",
   "metadata": {},
   "outputs": [
    {
     "data": {
      "text/plain": [
       "(0.9278921301745515, 0.8092570668640175)"
      ]
     },
     "execution_count": 53,
     "metadata": {},
     "output_type": "execute_result"
    }
   ],
   "source": [
    "tuned_params = {'n_estimators': [100,  300,  500], 'min_samples_split': [2, 5, 10], 'min_samples_leaf': [1, 2, 4]}\n",
    "random_regressor = RandomizedSearchCV(RandomForestRegressor(), tuned_params, n_iter = 20, scoring = 'neg_mean_absolute_error', cv = 5, n_jobs = -1)\n",
    "random_regressor.fit(x_train, y_train)\n",
    "metrics.r2_score(y_train,random_regressor.predict(x_train)),metrics.r2_score(y_test,random_regressor.predict(x_test))"
   ]
  },
  {
   "cell_type": "code",
   "execution_count": 52,
   "id": "022b516f",
   "metadata": {},
   "outputs": [
    {
     "data": {
      "text/plain": [
       "<bound method BaseEstimator.get_params of RandomizedSearchCV(cv=5, estimator=RandomForestRegressor(), n_iter=20,\n",
       "                   n_jobs=-1,\n",
       "                   param_distributions={'min_samples_leaf': [1, 2, 4],\n",
       "                                        'min_samples_split': [2, 5, 10],\n",
       "                                        'n_estimators': [100, 300, 500]},\n",
       "                   scoring='neg_mean_absolute_error')>"
      ]
     },
     "execution_count": 52,
     "metadata": {},
     "output_type": "execute_result"
    }
   ],
   "source": [
    "random_regressor.get_params"
   ]
  },
  {
   "cell_type": "code",
   "execution_count": 53,
   "id": "45675331",
   "metadata": {},
   "outputs": [
    {
     "data": {
      "text/plain": [
       "{'n_estimators': 500, 'min_samples_split': 10, 'min_samples_leaf': 2}"
      ]
     },
     "execution_count": 53,
     "metadata": {},
     "output_type": "execute_result"
    }
   ],
   "source": [
    "random_regressor.best_params_"
   ]
  },
  {
   "cell_type": "code",
   "execution_count": 54,
   "id": "1d3547d7",
   "metadata": {},
   "outputs": [
    {
     "name": "stderr",
     "output_type": "stream",
     "text": [
      "C:\\Users\\isha\\anaconda3\\lib\\site-packages\\xgboost\\compat.py:36: FutureWarning: pandas.Int64Index is deprecated and will be removed from pandas in a future version. Use pandas.Index with the appropriate dtype instead.\n",
      "  from pandas import MultiIndex, Int64Index\n"
     ]
    }
   ],
   "source": [
    "import xgboost as xgb"
   ]
  },
  {
   "cell_type": "code",
   "execution_count": 55,
   "id": "e9f66589",
   "metadata": {},
   "outputs": [
    {
     "name": "stderr",
     "output_type": "stream",
     "text": [
      "C:\\Users\\isha\\anaconda3\\lib\\site-packages\\xgboost\\data.py:262: FutureWarning: pandas.Int64Index is deprecated and will be removed from pandas in a future version. Use pandas.Index with the appropriate dtype instead.\n",
      "  elif isinstance(data.columns, (pd.Int64Index, pd.RangeIndex)):\n",
      "C:\\Users\\isha\\anaconda3\\lib\\site-packages\\xgboost\\data.py:262: FutureWarning: pandas.Int64Index is deprecated and will be removed from pandas in a future version. Use pandas.Index with the appropriate dtype instead.\n",
      "  elif isinstance(data.columns, (pd.Int64Index, pd.RangeIndex)):\n"
     ]
    },
    {
     "data": {
      "text/plain": [
       "(0.8675711115189058, 0.7984985497884372)"
      ]
     },
     "execution_count": 55,
     "metadata": {},
     "output_type": "execute_result"
    }
   ],
   "source": [
    "xg_reg = xgb.XGBRegressor()\n",
    "xg_reg.fit(x_train,y_train)\n",
    "metrics.r2_score(y_train,xg_reg.predict(x_train)),metrics.r2_score(y_test,xg_reg.predict(x_test))"
   ]
  },
  {
   "cell_type": "code",
   "execution_count": 56,
   "id": "d1f60b0b",
   "metadata": {},
   "outputs": [],
   "source": [
    "prediction = (random_regressor.predict(test1))"
   ]
  },
  {
   "cell_type": "code",
   "execution_count": 57,
   "id": "028b1028",
   "metadata": {},
   "outputs": [
    {
     "data": {
      "text/plain": [
       "array([75.22190327, 81.54965034, 83.19422757, ..., 89.92023282,\n",
       "       82.36874595, 81.54965034])"
      ]
     },
     "execution_count": 57,
     "metadata": {},
     "output_type": "execute_result"
    }
   ],
   "source": [
    "prediction"
   ]
  },
  {
   "cell_type": "code",
   "execution_count": 58,
   "id": "71127b07",
   "metadata": {},
   "outputs": [],
   "source": [
    "prediction = pd.DataFrame(prediction)"
   ]
  },
  {
   "cell_type": "code",
   "execution_count": 59,
   "id": "910bee9e",
   "metadata": {},
   "outputs": [],
   "source": [
    "prediction.to_csv('D:/Resume_projects/TopMentor_classes_material/7 and 8 May Morning session Documents (1)/7 and 8 May Morning session Documents/Airline/Airline/prediction.csv',index=False)"
   ]
  },
  {
   "cell_type": "code",
   "execution_count": 62,
   "id": "aa16a6c9",
   "metadata": {},
   "outputs": [],
   "source": [
    "from sklearn.feature_selection import RFE\n",
    "rfe = RFE(xg_reg, n_features_to_select=15, step=1)   # running RFE with 15 variables as output\n",
    "rfe = rfe.fit(x_train, y_train)"
   ]
  },
  {
   "cell_type": "code",
   "execution_count": 63,
   "id": "37b5ae09",
   "metadata": {},
   "outputs": [
    {
     "data": {
      "text/plain": [
       "array([ True,  True,  True,  True,  True,  True,  True,  True,  True,\n",
       "        True,  True])"
      ]
     },
     "execution_count": 63,
     "metadata": {},
     "output_type": "execute_result"
    }
   ],
   "source": [
    "rfe.support_"
   ]
  },
  {
   "cell_type": "code",
   "execution_count": 64,
   "id": "f1991de8",
   "metadata": {},
   "outputs": [
    {
     "data": {
      "text/plain": [
       "array([1, 1, 1, 1, 1, 1, 1, 1, 1, 1, 1])"
      ]
     },
     "execution_count": 64,
     "metadata": {},
     "output_type": "execute_result"
    }
   ],
   "source": [
    "rfe.ranking_"
   ]
  },
  {
   "cell_type": "code",
   "execution_count": 66,
   "id": "33ae2bb8",
   "metadata": {},
   "outputs": [
    {
     "data": {
      "text/plain": [
       "[('Property_Area', True, 1),\n",
       " ('Frequency_of_Powercuts', True, 1),\n",
       " ('Traffic_Density_Score', True, 1),\n",
       " ('Air_Quality_Index', True, 1),\n",
       " ('Neighborhood_Review', True, 1),\n",
       " ('Freq_encoded_Property_Type', True, 1),\n",
       " ('Freq_encoded_Furnishing', True, 1),\n",
       " ('Freq_encoded_Power_Backup', True, 1),\n",
       " ('Freq_encoded_Water_Supply', True, 1),\n",
       " ('Freq_encoded_Crime_Rate', True, 1),\n",
       " ('Freq_encoded_Dust_and_Noise', True, 1)]"
      ]
     },
     "execution_count": 66,
     "metadata": {},
     "output_type": "execute_result"
    }
   ],
   "source": [
    "\n",
    "list(zip(x_train.columns, rfe.support_, rfe.ranking_))"
   ]
  },
  {
   "cell_type": "code",
   "execution_count": 68,
   "id": "ef362a89",
   "metadata": {},
   "outputs": [],
   "source": [
    "col = x_train.columns[rfe.support_]"
   ]
  },
  {
   "cell_type": "code",
   "execution_count": 69,
   "id": "c8b690f7",
   "metadata": {},
   "outputs": [
    {
     "data": {
      "text/plain": [
       "Index(['Property_Area', 'Frequency_of_Powercuts', 'Traffic_Density_Score',\n",
       "       'Air_Quality_Index', 'Neighborhood_Review',\n",
       "       'Freq_encoded_Property_Type', 'Freq_encoded_Furnishing',\n",
       "       'Freq_encoded_Power_Backup', 'Freq_encoded_Water_Supply',\n",
       "       'Freq_encoded_Crime_Rate', 'Freq_encoded_Dust_and_Noise'],\n",
       "      dtype='object')"
      ]
     },
     "execution_count": 69,
     "metadata": {},
     "output_type": "execute_result"
    }
   ],
   "source": [
    "col"
   ]
  },
  {
   "cell_type": "code",
   "execution_count": 71,
   "id": "f37458cf",
   "metadata": {},
   "outputs": [],
   "source": [
    "x_train_new = x_train[col]"
   ]
  },
  {
   "cell_type": "code",
   "execution_count": 72,
   "id": "1f622290",
   "metadata": {},
   "outputs": [
    {
     "data": {
      "text/html": [
       "<div>\n",
       "<style scoped>\n",
       "    .dataframe tbody tr th:only-of-type {\n",
       "        vertical-align: middle;\n",
       "    }\n",
       "\n",
       "    .dataframe tbody tr th {\n",
       "        vertical-align: top;\n",
       "    }\n",
       "\n",
       "    .dataframe thead th {\n",
       "        text-align: right;\n",
       "    }\n",
       "</style>\n",
       "<table border=\"1\" class=\"dataframe\">\n",
       "  <thead>\n",
       "    <tr style=\"text-align: right;\">\n",
       "      <th></th>\n",
       "      <th>Property_Area</th>\n",
       "      <th>Frequency_of_Powercuts</th>\n",
       "      <th>Traffic_Density_Score</th>\n",
       "      <th>Air_Quality_Index</th>\n",
       "      <th>Neighborhood_Review</th>\n",
       "      <th>Freq_encoded_Property_Type</th>\n",
       "      <th>Freq_encoded_Furnishing</th>\n",
       "      <th>Freq_encoded_Power_Backup</th>\n",
       "      <th>Freq_encoded_Water_Supply</th>\n",
       "      <th>Freq_encoded_Crime_Rate</th>\n",
       "      <th>Freq_encoded_Dust_and_Noise</th>\n",
       "    </tr>\n",
       "  </thead>\n",
       "  <tbody>\n",
       "    <tr>\n",
       "      <th>32218</th>\n",
       "      <td>0.033829</td>\n",
       "      <td>1.000000</td>\n",
       "      <td>0.593340</td>\n",
       "      <td>0.084291</td>\n",
       "      <td>0.460</td>\n",
       "      <td>0.146991</td>\n",
       "      <td>0.541761</td>\n",
       "      <td>0.773235</td>\n",
       "      <td>0.502696</td>\n",
       "      <td>0.293172</td>\n",
       "      <td>0.866224</td>\n",
       "    </tr>\n",
       "    <tr>\n",
       "      <th>38507</th>\n",
       "      <td>0.001538</td>\n",
       "      <td>0.666667</td>\n",
       "      <td>0.654894</td>\n",
       "      <td>0.133142</td>\n",
       "      <td>0.572</td>\n",
       "      <td>0.369528</td>\n",
       "      <td>0.261880</td>\n",
       "      <td>0.773235</td>\n",
       "      <td>0.197853</td>\n",
       "      <td>0.512899</td>\n",
       "      <td>0.866224</td>\n",
       "    </tr>\n",
       "    <tr>\n",
       "      <th>26277</th>\n",
       "      <td>0.063975</td>\n",
       "      <td>0.333333</td>\n",
       "      <td>0.537841</td>\n",
       "      <td>0.106322</td>\n",
       "      <td>0.516</td>\n",
       "      <td>0.290564</td>\n",
       "      <td>0.541761</td>\n",
       "      <td>0.773235</td>\n",
       "      <td>0.048887</td>\n",
       "      <td>0.293172</td>\n",
       "      <td>0.866224</td>\n",
       "    </tr>\n",
       "    <tr>\n",
       "      <th>39187</th>\n",
       "      <td>0.037942</td>\n",
       "      <td>0.333333</td>\n",
       "      <td>0.507568</td>\n",
       "      <td>0.093870</td>\n",
       "      <td>0.570</td>\n",
       "      <td>0.290564</td>\n",
       "      <td>0.196359</td>\n",
       "      <td>0.773235</td>\n",
       "      <td>0.502696</td>\n",
       "      <td>0.134257</td>\n",
       "      <td>0.866224</td>\n",
       "    </tr>\n",
       "    <tr>\n",
       "      <th>25229</th>\n",
       "      <td>0.012337</td>\n",
       "      <td>0.000000</td>\n",
       "      <td>0.879919</td>\n",
       "      <td>0.165709</td>\n",
       "      <td>0.860</td>\n",
       "      <td>0.072711</td>\n",
       "      <td>0.196359</td>\n",
       "      <td>0.773235</td>\n",
       "      <td>0.250563</td>\n",
       "      <td>0.512899</td>\n",
       "      <td>0.081319</td>\n",
       "    </tr>\n",
       "    <tr>\n",
       "      <th>...</th>\n",
       "      <td>...</td>\n",
       "      <td>...</td>\n",
       "      <td>...</td>\n",
       "      <td>...</td>\n",
       "      <td>...</td>\n",
       "      <td>...</td>\n",
       "      <td>...</td>\n",
       "      <td>...</td>\n",
       "      <td>...</td>\n",
       "      <td>...</td>\n",
       "      <td>...</td>\n",
       "    </tr>\n",
       "    <tr>\n",
       "      <th>13214</th>\n",
       "      <td>0.070948</td>\n",
       "      <td>0.000000</td>\n",
       "      <td>0.623613</td>\n",
       "      <td>0.106322</td>\n",
       "      <td>0.956</td>\n",
       "      <td>0.290564</td>\n",
       "      <td>0.541761</td>\n",
       "      <td>0.773235</td>\n",
       "      <td>0.502696</td>\n",
       "      <td>0.512899</td>\n",
       "      <td>0.866224</td>\n",
       "    </tr>\n",
       "    <tr>\n",
       "      <th>3759</th>\n",
       "      <td>0.064476</td>\n",
       "      <td>0.000000</td>\n",
       "      <td>0.544904</td>\n",
       "      <td>0.090996</td>\n",
       "      <td>0.834</td>\n",
       "      <td>0.107294</td>\n",
       "      <td>0.261880</td>\n",
       "      <td>0.773235</td>\n",
       "      <td>0.502696</td>\n",
       "      <td>0.293172</td>\n",
       "      <td>0.866224</td>\n",
       "    </tr>\n",
       "    <tr>\n",
       "      <th>18966</th>\n",
       "      <td>0.025175</td>\n",
       "      <td>0.000000</td>\n",
       "      <td>0.812311</td>\n",
       "      <td>0.118774</td>\n",
       "      <td>0.560</td>\n",
       "      <td>0.369528</td>\n",
       "      <td>0.541761</td>\n",
       "      <td>0.773235</td>\n",
       "      <td>0.197853</td>\n",
       "      <td>0.134257</td>\n",
       "      <td>0.081319</td>\n",
       "    </tr>\n",
       "    <tr>\n",
       "      <th>35505</th>\n",
       "      <td>0.003004</td>\n",
       "      <td>0.000000</td>\n",
       "      <td>0.528759</td>\n",
       "      <td>0.109195</td>\n",
       "      <td>0.768</td>\n",
       "      <td>0.369528</td>\n",
       "      <td>0.541761</td>\n",
       "      <td>0.773235</td>\n",
       "      <td>0.250563</td>\n",
       "      <td>0.293172</td>\n",
       "      <td>0.866224</td>\n",
       "    </tr>\n",
       "    <tr>\n",
       "      <th>34010</th>\n",
       "      <td>0.049814</td>\n",
       "      <td>0.333333</td>\n",
       "      <td>0.752775</td>\n",
       "      <td>0.159962</td>\n",
       "      <td>0.688</td>\n",
       "      <td>0.290564</td>\n",
       "      <td>0.541761</td>\n",
       "      <td>0.226765</td>\n",
       "      <td>0.197853</td>\n",
       "      <td>0.512899</td>\n",
       "      <td>0.866224</td>\n",
       "    </tr>\n",
       "  </tbody>\n",
       "</table>\n",
       "<p>27649 rows × 11 columns</p>\n",
       "</div>"
      ],
      "text/plain": [
       "       Property_Area  Frequency_of_Powercuts  Traffic_Density_Score  \\\n",
       "32218       0.033829                1.000000               0.593340   \n",
       "38507       0.001538                0.666667               0.654894   \n",
       "26277       0.063975                0.333333               0.537841   \n",
       "39187       0.037942                0.333333               0.507568   \n",
       "25229       0.012337                0.000000               0.879919   \n",
       "...              ...                     ...                    ...   \n",
       "13214       0.070948                0.000000               0.623613   \n",
       "3759        0.064476                0.000000               0.544904   \n",
       "18966       0.025175                0.000000               0.812311   \n",
       "35505       0.003004                0.000000               0.528759   \n",
       "34010       0.049814                0.333333               0.752775   \n",
       "\n",
       "       Air_Quality_Index  Neighborhood_Review  Freq_encoded_Property_Type  \\\n",
       "32218           0.084291                0.460                    0.146991   \n",
       "38507           0.133142                0.572                    0.369528   \n",
       "26277           0.106322                0.516                    0.290564   \n",
       "39187           0.093870                0.570                    0.290564   \n",
       "25229           0.165709                0.860                    0.072711   \n",
       "...                  ...                  ...                         ...   \n",
       "13214           0.106322                0.956                    0.290564   \n",
       "3759            0.090996                0.834                    0.107294   \n",
       "18966           0.118774                0.560                    0.369528   \n",
       "35505           0.109195                0.768                    0.369528   \n",
       "34010           0.159962                0.688                    0.290564   \n",
       "\n",
       "       Freq_encoded_Furnishing  Freq_encoded_Power_Backup  \\\n",
       "32218                 0.541761                   0.773235   \n",
       "38507                 0.261880                   0.773235   \n",
       "26277                 0.541761                   0.773235   \n",
       "39187                 0.196359                   0.773235   \n",
       "25229                 0.196359                   0.773235   \n",
       "...                        ...                        ...   \n",
       "13214                 0.541761                   0.773235   \n",
       "3759                  0.261880                   0.773235   \n",
       "18966                 0.541761                   0.773235   \n",
       "35505                 0.541761                   0.773235   \n",
       "34010                 0.541761                   0.226765   \n",
       "\n",
       "       Freq_encoded_Water_Supply  Freq_encoded_Crime_Rate  \\\n",
       "32218                   0.502696                 0.293172   \n",
       "38507                   0.197853                 0.512899   \n",
       "26277                   0.048887                 0.293172   \n",
       "39187                   0.502696                 0.134257   \n",
       "25229                   0.250563                 0.512899   \n",
       "...                          ...                      ...   \n",
       "13214                   0.502696                 0.512899   \n",
       "3759                    0.502696                 0.293172   \n",
       "18966                   0.197853                 0.134257   \n",
       "35505                   0.250563                 0.293172   \n",
       "34010                   0.197853                 0.512899   \n",
       "\n",
       "       Freq_encoded_Dust_and_Noise  \n",
       "32218                     0.866224  \n",
       "38507                     0.866224  \n",
       "26277                     0.866224  \n",
       "39187                     0.866224  \n",
       "25229                     0.081319  \n",
       "...                            ...  \n",
       "13214                     0.866224  \n",
       "3759                      0.866224  \n",
       "18966                     0.081319  \n",
       "35505                     0.866224  \n",
       "34010                     0.866224  \n",
       "\n",
       "[27649 rows x 11 columns]"
      ]
     },
     "execution_count": 72,
     "metadata": {},
     "output_type": "execute_result"
    }
   ],
   "source": [
    "x_train_new"
   ]
  },
  {
   "cell_type": "code",
   "execution_count": 73,
   "id": "e9b91501",
   "metadata": {},
   "outputs": [
    {
     "name": "stderr",
     "output_type": "stream",
     "text": [
      "C:\\Users\\isha\\anaconda3\\lib\\site-packages\\statsmodels\\tsa\\base\\tsa_model.py:7: FutureWarning: pandas.Int64Index is deprecated and will be removed from pandas in a future version. Use pandas.Index with the appropriate dtype instead.\n",
      "  from pandas import (to_datetime, Int64Index, DatetimeIndex, Period,\n",
      "C:\\Users\\isha\\anaconda3\\lib\\site-packages\\statsmodels\\tsa\\base\\tsa_model.py:7: FutureWarning: pandas.Float64Index is deprecated and will be removed from pandas in a future version. Use pandas.Index with the appropriate dtype instead.\n",
      "  from pandas import (to_datetime, Int64Index, DatetimeIndex, Period,\n"
     ]
    }
   ],
   "source": [
    "import statsmodels.api as sm"
   ]
  },
  {
   "cell_type": "code",
   "execution_count": 75,
   "id": "4143b9e1",
   "metadata": {},
   "outputs": [
    {
     "name": "stderr",
     "output_type": "stream",
     "text": [
      "C:\\Users\\isha\\anaconda3\\lib\\site-packages\\statsmodels\\tsa\\tsatools.py:142: FutureWarning: In a future version of pandas all arguments of concat except for the argument 'objs' will be keyword-only.\n",
      "  x = pd.concat(x[::order], 1)\n"
     ]
    },
    {
     "data": {
      "text/html": [
       "<table class=\"simpletable\">\n",
       "<caption>Generalized Linear Model Regression Results</caption>\n",
       "<tr>\n",
       "  <th>Dep. Variable:</th>   <td>Habitability_score</td> <th>  No. Observations:  </th>   <td> 27649</td>  \n",
       "</tr>\n",
       "<tr>\n",
       "  <th>Model:</th>                   <td>GLM</td>        <th>  Df Residuals:      </th>   <td> 27637</td>  \n",
       "</tr>\n",
       "<tr>\n",
       "  <th>Model Family:</th>         <td>Binomial</td>      <th>  Df Model:          </th>   <td>    11</td>  \n",
       "</tr>\n",
       "<tr>\n",
       "  <th>Link Function:</th>          <td>logit</td>       <th>  Scale:             </th>  <td>  1.0000</td> \n",
       "</tr>\n",
       "<tr>\n",
       "  <th>Method:</th>                 <td>IRLS</td>        <th>  Log-Likelihood:    </th>  <td>    -inf</td> \n",
       "</tr>\n",
       "<tr>\n",
       "  <th>Date:</th>             <td>Thu, 25 Aug 2022</td>  <th>  Deviance:          </th> <td>1.6203e+08</td>\n",
       "</tr>\n",
       "<tr>\n",
       "  <th>Time:</th>                 <td>21:00:41</td>      <th>  Pearson chi2:      </th>  <td>6.79e+23</td> \n",
       "</tr>\n",
       "<tr>\n",
       "  <th>No. Iterations:</th>           <td>2</td>         <th>                     </th>      <td> </td>    \n",
       "</tr>\n",
       "<tr>\n",
       "  <th>Covariance Type:</th>      <td>nonrobust</td>     <th>                     </th>      <td> </td>    \n",
       "</tr>\n",
       "</table>\n",
       "<table class=\"simpletable\">\n",
       "<tr>\n",
       "               <td></td>                  <th>coef</th>     <th>std err</th>      <th>z</th>      <th>P>|z|</th>  <th>[0.025</th>    <th>0.975]</th>  \n",
       "</tr>\n",
       "<tr>\n",
       "  <th>const</th>                       <td> 2.506e+17</td> <td> 5.98e+06</td> <td> 4.19e+10</td> <td> 0.000</td> <td> 2.51e+17</td> <td> 2.51e+17</td>\n",
       "</tr>\n",
       "<tr>\n",
       "  <th>Property_Area</th>               <td> 5.991e+16</td> <td> 5.82e+06</td> <td> 1.03e+10</td> <td> 0.000</td> <td> 5.99e+16</td> <td> 5.99e+16</td>\n",
       "</tr>\n",
       "<tr>\n",
       "  <th>Frequency_of_Powercuts</th>      <td> 8.071e+16</td> <td> 4.15e+06</td> <td> 1.95e+10</td> <td> 0.000</td> <td> 8.07e+16</td> <td> 8.07e+16</td>\n",
       "</tr>\n",
       "<tr>\n",
       "  <th>Traffic_Density_Score</th>       <td>-3.071e+16</td> <td> 3.63e+06</td> <td>-8.47e+09</td> <td> 0.000</td> <td>-3.07e+16</td> <td>-3.07e+16</td>\n",
       "</tr>\n",
       "<tr>\n",
       "  <th>Air_Quality_Index</th>           <td>-2.186e+16</td> <td> 7.35e+06</td> <td>-2.97e+09</td> <td> 0.000</td> <td>-2.19e+16</td> <td>-2.19e+16</td>\n",
       "</tr>\n",
       "<tr>\n",
       "  <th>Neighborhood_Review</th>         <td> 4.566e+17</td> <td> 1.03e+07</td> <td> 4.44e+10</td> <td> 0.000</td> <td> 4.57e+17</td> <td> 4.57e+17</td>\n",
       "</tr>\n",
       "<tr>\n",
       "  <th>Freq_encoded_Property_Type</th>  <td>-3.895e+16</td> <td> 3.66e+06</td> <td>-1.06e+10</td> <td> 0.000</td> <td>-3.89e+16</td> <td>-3.89e+16</td>\n",
       "</tr>\n",
       "<tr>\n",
       "  <th>Freq_encoded_Furnishing</th>     <td> 5.231e+16</td> <td> 2.61e+06</td> <td> 2.01e+10</td> <td> 0.000</td> <td> 5.23e+16</td> <td> 5.23e+16</td>\n",
       "</tr>\n",
       "<tr>\n",
       "  <th>Freq_encoded_Power_Backup</th>   <td>-1.117e+17</td> <td> 1.76e+06</td> <td>-6.33e+10</td> <td> 0.000</td> <td>-1.12e+17</td> <td>-1.12e+17</td>\n",
       "</tr>\n",
       "<tr>\n",
       "  <th>Freq_encoded_Water_Supply</th>   <td>-4.692e+16</td> <td> 4.59e+06</td> <td>-1.02e+10</td> <td> 0.000</td> <td>-4.69e+16</td> <td>-4.69e+16</td>\n",
       "</tr>\n",
       "<tr>\n",
       "  <th>Freq_encoded_Crime_Rate</th>     <td>-6.027e+16</td> <td> 7.57e+06</td> <td>-7.96e+09</td> <td> 0.000</td> <td>-6.03e+16</td> <td>-6.03e+16</td>\n",
       "</tr>\n",
       "<tr>\n",
       "  <th>Freq_encoded_Dust_and_Noise</th> <td> 8.438e+15</td> <td>  1.5e+06</td> <td> 5.62e+09</td> <td> 0.000</td> <td> 8.44e+15</td> <td> 8.44e+15</td>\n",
       "</tr>\n",
       "</table>"
      ],
      "text/plain": [
       "<class 'statsmodels.iolib.summary.Summary'>\n",
       "\"\"\"\n",
       "                 Generalized Linear Model Regression Results                  \n",
       "==============================================================================\n",
       "Dep. Variable:     Habitability_score   No. Observations:                27649\n",
       "Model:                            GLM   Df Residuals:                    27637\n",
       "Model Family:                Binomial   Df Model:                           11\n",
       "Link Function:                  logit   Scale:                          1.0000\n",
       "Method:                          IRLS   Log-Likelihood:                   -inf\n",
       "Date:                Thu, 25 Aug 2022   Deviance:                   1.6203e+08\n",
       "Time:                        21:00:41   Pearson chi2:                 6.79e+23\n",
       "No. Iterations:                     2                                         \n",
       "Covariance Type:            nonrobust                                         \n",
       "===============================================================================================\n",
       "                                  coef    std err          z      P>|z|      [0.025      0.975]\n",
       "-----------------------------------------------------------------------------------------------\n",
       "const                        2.506e+17   5.98e+06   4.19e+10      0.000    2.51e+17    2.51e+17\n",
       "Property_Area                5.991e+16   5.82e+06   1.03e+10      0.000    5.99e+16    5.99e+16\n",
       "Frequency_of_Powercuts       8.071e+16   4.15e+06   1.95e+10      0.000    8.07e+16    8.07e+16\n",
       "Traffic_Density_Score       -3.071e+16   3.63e+06  -8.47e+09      0.000   -3.07e+16   -3.07e+16\n",
       "Air_Quality_Index           -2.186e+16   7.35e+06  -2.97e+09      0.000   -2.19e+16   -2.19e+16\n",
       "Neighborhood_Review          4.566e+17   1.03e+07   4.44e+10      0.000    4.57e+17    4.57e+17\n",
       "Freq_encoded_Property_Type  -3.895e+16   3.66e+06  -1.06e+10      0.000   -3.89e+16   -3.89e+16\n",
       "Freq_encoded_Furnishing      5.231e+16   2.61e+06   2.01e+10      0.000    5.23e+16    5.23e+16\n",
       "Freq_encoded_Power_Backup   -1.117e+17   1.76e+06  -6.33e+10      0.000   -1.12e+17   -1.12e+17\n",
       "Freq_encoded_Water_Supply   -4.692e+16   4.59e+06  -1.02e+10      0.000   -4.69e+16   -4.69e+16\n",
       "Freq_encoded_Crime_Rate     -6.027e+16   7.57e+06  -7.96e+09      0.000   -6.03e+16   -6.03e+16\n",
       "Freq_encoded_Dust_and_Noise  8.438e+15    1.5e+06   5.62e+09      0.000    8.44e+15    8.44e+15\n",
       "===============================================================================================\n",
       "\"\"\""
      ]
     },
     "execution_count": 75,
     "metadata": {},
     "output_type": "execute_result"
    }
   ],
   "source": [
    "x_train_sm = sm.add_constant(x_train_new)\n",
    "logm2 = sm.GLM(y_train, x_train_sm, family = sm.families.Binomial())\n",
    "res = logm2.fit()\n",
    "res.summary()"
   ]
  },
  {
   "cell_type": "code",
   "execution_count": 77,
   "id": "30b6c1be",
   "metadata": {},
   "outputs": [],
   "source": [
    "from statsmodels.stats.outliers_influence import variance_inflation_factor"
   ]
  },
  {
   "cell_type": "code",
   "execution_count": 78,
   "id": "479934c4",
   "metadata": {},
   "outputs": [
    {
     "data": {
      "text/html": [
       "<div>\n",
       "<style scoped>\n",
       "    .dataframe tbody tr th:only-of-type {\n",
       "        vertical-align: middle;\n",
       "    }\n",
       "\n",
       "    .dataframe tbody tr th {\n",
       "        vertical-align: top;\n",
       "    }\n",
       "\n",
       "    .dataframe thead th {\n",
       "        text-align: right;\n",
       "    }\n",
       "</style>\n",
       "<table border=\"1\" class=\"dataframe\">\n",
       "  <thead>\n",
       "    <tr style=\"text-align: right;\">\n",
       "      <th></th>\n",
       "      <th>Features</th>\n",
       "      <th>VIF</th>\n",
       "    </tr>\n",
       "  </thead>\n",
       "  <tbody>\n",
       "    <tr>\n",
       "      <th>4</th>\n",
       "      <td>Neighborhood_Review</td>\n",
       "      <td>116.93</td>\n",
       "    </tr>\n",
       "    <tr>\n",
       "      <th>9</th>\n",
       "      <td>Freq_encoded_Crime_Rate</td>\n",
       "      <td>25.52</td>\n",
       "    </tr>\n",
       "    <tr>\n",
       "      <th>2</th>\n",
       "      <td>Traffic_Density_Score</td>\n",
       "      <td>24.27</td>\n",
       "    </tr>\n",
       "    <tr>\n",
       "      <th>8</th>\n",
       "      <td>Freq_encoded_Water_Supply</td>\n",
       "      <td>12.74</td>\n",
       "    </tr>\n",
       "    <tr>\n",
       "      <th>10</th>\n",
       "      <td>Freq_encoded_Dust_and_Noise</td>\n",
       "      <td>8.81</td>\n",
       "    </tr>\n",
       "    <tr>\n",
       "      <th>7</th>\n",
       "      <td>Freq_encoded_Power_Backup</td>\n",
       "      <td>8.70</td>\n",
       "    </tr>\n",
       "    <tr>\n",
       "      <th>6</th>\n",
       "      <td>Freq_encoded_Furnishing</td>\n",
       "      <td>7.44</td>\n",
       "    </tr>\n",
       "    <tr>\n",
       "      <th>5</th>\n",
       "      <td>Freq_encoded_Property_Type</td>\n",
       "      <td>6.37</td>\n",
       "    </tr>\n",
       "    <tr>\n",
       "      <th>3</th>\n",
       "      <td>Air_Quality_Index</td>\n",
       "      <td>5.53</td>\n",
       "    </tr>\n",
       "    <tr>\n",
       "      <th>1</th>\n",
       "      <td>Frequency_of_Powercuts</td>\n",
       "      <td>3.49</td>\n",
       "    </tr>\n",
       "    <tr>\n",
       "      <th>0</th>\n",
       "      <td>Property_Area</td>\n",
       "      <td>1.47</td>\n",
       "    </tr>\n",
       "  </tbody>\n",
       "</table>\n",
       "</div>"
      ],
      "text/plain": [
       "                       Features     VIF\n",
       "4           Neighborhood_Review  116.93\n",
       "9       Freq_encoded_Crime_Rate   25.52\n",
       "2         Traffic_Density_Score   24.27\n",
       "8     Freq_encoded_Water_Supply   12.74\n",
       "10  Freq_encoded_Dust_and_Noise    8.81\n",
       "7     Freq_encoded_Power_Backup    8.70\n",
       "6       Freq_encoded_Furnishing    7.44\n",
       "5    Freq_encoded_Property_Type    6.37\n",
       "3             Air_Quality_Index    5.53\n",
       "1        Frequency_of_Powercuts    3.49\n",
       "0                 Property_Area    1.47"
      ]
     },
     "execution_count": 78,
     "metadata": {},
     "output_type": "execute_result"
    }
   ],
   "source": [
    "\n",
    "vif = pd.DataFrame()\n",
    "vif['Features'] = x_train_new.columns\n",
    "vif['VIF'] = [variance_inflation_factor(x_train_new.values, i) for i in range(x_train_new.shape[1])]\n",
    "vif['VIF'] = round(vif['VIF'], 2)\n",
    "vif = vif.sort_values(by = \"VIF\", ascending = False)\n",
    "vif"
   ]
  },
  {
   "cell_type": "code",
   "execution_count": 79,
   "id": "05272571",
   "metadata": {},
   "outputs": [],
   "source": [
    "final_col = x_train_new.columns"
   ]
  },
  {
   "cell_type": "code",
   "execution_count": 81,
   "id": "f49b7212",
   "metadata": {},
   "outputs": [],
   "source": [
    "x_test_new = x_test[final_col]"
   ]
  },
  {
   "cell_type": "code",
   "execution_count": 84,
   "id": "ba871e9a",
   "metadata": {},
   "outputs": [
    {
     "data": {
      "text/html": [
       "<style>#sk-container-id-2 {color: black;background-color: white;}#sk-container-id-2 pre{padding: 0;}#sk-container-id-2 div.sk-toggleable {background-color: white;}#sk-container-id-2 label.sk-toggleable__label {cursor: pointer;display: block;width: 100%;margin-bottom: 0;padding: 0.3em;box-sizing: border-box;text-align: center;}#sk-container-id-2 label.sk-toggleable__label-arrow:before {content: \"▸\";float: left;margin-right: 0.25em;color: #696969;}#sk-container-id-2 label.sk-toggleable__label-arrow:hover:before {color: black;}#sk-container-id-2 div.sk-estimator:hover label.sk-toggleable__label-arrow:before {color: black;}#sk-container-id-2 div.sk-toggleable__content {max-height: 0;max-width: 0;overflow: hidden;text-align: left;background-color: #f0f8ff;}#sk-container-id-2 div.sk-toggleable__content pre {margin: 0.2em;color: black;border-radius: 0.25em;background-color: #f0f8ff;}#sk-container-id-2 input.sk-toggleable__control:checked~div.sk-toggleable__content {max-height: 200px;max-width: 100%;overflow: auto;}#sk-container-id-2 input.sk-toggleable__control:checked~label.sk-toggleable__label-arrow:before {content: \"▾\";}#sk-container-id-2 div.sk-estimator input.sk-toggleable__control:checked~label.sk-toggleable__label {background-color: #d4ebff;}#sk-container-id-2 div.sk-label input.sk-toggleable__control:checked~label.sk-toggleable__label {background-color: #d4ebff;}#sk-container-id-2 input.sk-hidden--visually {border: 0;clip: rect(1px 1px 1px 1px);clip: rect(1px, 1px, 1px, 1px);height: 1px;margin: -1px;overflow: hidden;padding: 0;position: absolute;width: 1px;}#sk-container-id-2 div.sk-estimator {font-family: monospace;background-color: #f0f8ff;border: 1px dotted black;border-radius: 0.25em;box-sizing: border-box;margin-bottom: 0.5em;}#sk-container-id-2 div.sk-estimator:hover {background-color: #d4ebff;}#sk-container-id-2 div.sk-parallel-item::after {content: \"\";width: 100%;border-bottom: 1px solid gray;flex-grow: 1;}#sk-container-id-2 div.sk-label:hover label.sk-toggleable__label {background-color: #d4ebff;}#sk-container-id-2 div.sk-serial::before {content: \"\";position: absolute;border-left: 1px solid gray;box-sizing: border-box;top: 0;bottom: 0;left: 50%;z-index: 0;}#sk-container-id-2 div.sk-serial {display: flex;flex-direction: column;align-items: center;background-color: white;padding-right: 0.2em;padding-left: 0.2em;position: relative;}#sk-container-id-2 div.sk-item {position: relative;z-index: 1;}#sk-container-id-2 div.sk-parallel {display: flex;align-items: stretch;justify-content: center;background-color: white;position: relative;}#sk-container-id-2 div.sk-item::before, #sk-container-id-2 div.sk-parallel-item::before {content: \"\";position: absolute;border-left: 1px solid gray;box-sizing: border-box;top: 0;bottom: 0;left: 50%;z-index: -1;}#sk-container-id-2 div.sk-parallel-item {display: flex;flex-direction: column;z-index: 1;position: relative;background-color: white;}#sk-container-id-2 div.sk-parallel-item:first-child::after {align-self: flex-end;width: 50%;}#sk-container-id-2 div.sk-parallel-item:last-child::after {align-self: flex-start;width: 50%;}#sk-container-id-2 div.sk-parallel-item:only-child::after {width: 0;}#sk-container-id-2 div.sk-dashed-wrapped {border: 1px dashed gray;margin: 0 0.4em 0.5em 0.4em;box-sizing: border-box;padding-bottom: 0.4em;background-color: white;}#sk-container-id-2 div.sk-label label {font-family: monospace;font-weight: bold;display: inline-block;line-height: 1.2em;}#sk-container-id-2 div.sk-label-container {text-align: center;}#sk-container-id-2 div.sk-container {/* jupyter's `normalize.less` sets `[hidden] { display: none; }` but bootstrap.min.css set `[hidden] { display: none !important; }` so we also need the `!important` here to be able to override the default hidden behavior on the sphinx rendered scikit-learn.org. See: https://github.com/scikit-learn/scikit-learn/issues/21755 */display: inline-block !important;position: relative;}#sk-container-id-2 div.sk-text-repr-fallback {display: none;}</style><div id=\"sk-container-id-2\" class=\"sk-top-container\"><div class=\"sk-text-repr-fallback\"><pre>LinearRegression()</pre><b>In a Jupyter environment, please rerun this cell to show the HTML representation or trust the notebook. <br />On GitHub, the HTML representation is unable to render, please try loading this page with nbviewer.org.</b></div><div class=\"sk-container\" hidden><div class=\"sk-item\"><div class=\"sk-estimator sk-toggleable\"><input class=\"sk-toggleable__control sk-hidden--visually\" id=\"sk-estimator-id-6\" type=\"checkbox\" checked><label for=\"sk-estimator-id-6\" class=\"sk-toggleable__label sk-toggleable__label-arrow\">LinearRegression</label><div class=\"sk-toggleable__content\"><pre>LinearRegression()</pre></div></div></div></div></div>"
      ],
      "text/plain": [
       "LinearRegression()"
      ]
     },
     "execution_count": 84,
     "metadata": {},
     "output_type": "execute_result"
    }
   ],
   "source": [
    "model_new = linear_model.LinearRegression()\n",
    "model_new.fit(x_train_new,y_train)"
   ]
  },
  {
   "cell_type": "code",
   "execution_count": 85,
   "id": "5a64fa31",
   "metadata": {},
   "outputs": [
    {
     "data": {
      "text/plain": [
       "array([63.83316992, 63.4037228 , 62.42572389, ..., 58.7324014 ,\n",
       "       73.11267239, 78.818658  ])"
      ]
     },
     "execution_count": 85,
     "metadata": {},
     "output_type": "execute_result"
    }
   ],
   "source": [
    "model_new.predict(x_train_new)"
   ]
  },
  {
   "cell_type": "code",
   "execution_count": 86,
   "id": "655f8e86",
   "metadata": {},
   "outputs": [
    {
     "name": "stderr",
     "output_type": "stream",
     "text": [
      "C:\\Users\\isha\\anaconda3\\lib\\site-packages\\xgboost\\data.py:262: FutureWarning: pandas.Int64Index is deprecated and will be removed from pandas in a future version. Use pandas.Index with the appropriate dtype instead.\n",
      "  elif isinstance(data.columns, (pd.Int64Index, pd.RangeIndex)):\n",
      "C:\\Users\\isha\\anaconda3\\lib\\site-packages\\xgboost\\data.py:262: FutureWarning: pandas.Int64Index is deprecated and will be removed from pandas in a future version. Use pandas.Index with the appropriate dtype instead.\n",
      "  elif isinstance(data.columns, (pd.Int64Index, pd.RangeIndex)):\n"
     ]
    },
    {
     "data": {
      "text/plain": [
       "(0.8675711115189058, 0.7984985497884372)"
      ]
     },
     "execution_count": 86,
     "metadata": {},
     "output_type": "execute_result"
    }
   ],
   "source": [
    "xg_reg = xgb.XGBRegressor()\n",
    "xg_reg.fit(x_train_new,y_train)\n",
    "metrics.r2_score(y_train,xg_reg.predict(x_train_new)),metrics.r2_score(y_test,xg_reg.predict(x_test_new))"
   ]
  },
  {
   "cell_type": "code",
   "execution_count": 87,
   "id": "bb437d3b",
   "metadata": {},
   "outputs": [
    {
     "data": {
      "text/html": [
       "<div>\n",
       "<style scoped>\n",
       "    .dataframe tbody tr th:only-of-type {\n",
       "        vertical-align: middle;\n",
       "    }\n",
       "\n",
       "    .dataframe tbody tr th {\n",
       "        vertical-align: top;\n",
       "    }\n",
       "\n",
       "    .dataframe thead th {\n",
       "        text-align: right;\n",
       "    }\n",
       "</style>\n",
       "<table border=\"1\" class=\"dataframe\">\n",
       "  <thead>\n",
       "    <tr style=\"text-align: right;\">\n",
       "      <th></th>\n",
       "      <th>Property_Area</th>\n",
       "      <th>Frequency_of_Powercuts</th>\n",
       "      <th>Traffic_Density_Score</th>\n",
       "      <th>Air_Quality_Index</th>\n",
       "      <th>Neighborhood_Review</th>\n",
       "      <th>Freq_encoded_Property_Type</th>\n",
       "      <th>Freq_encoded_Furnishing</th>\n",
       "      <th>Freq_encoded_Power_Backup</th>\n",
       "      <th>Freq_encoded_Water_Supply</th>\n",
       "      <th>Freq_encoded_Crime_Rate</th>\n",
       "      <th>Freq_encoded_Dust_and_Noise</th>\n",
       "    </tr>\n",
       "  </thead>\n",
       "  <tbody>\n",
       "    <tr>\n",
       "      <th>32218</th>\n",
       "      <td>0.033829</td>\n",
       "      <td>1.000000</td>\n",
       "      <td>0.593340</td>\n",
       "      <td>0.084291</td>\n",
       "      <td>0.460</td>\n",
       "      <td>0.146991</td>\n",
       "      <td>0.541761</td>\n",
       "      <td>0.773235</td>\n",
       "      <td>0.502696</td>\n",
       "      <td>0.293172</td>\n",
       "      <td>0.866224</td>\n",
       "    </tr>\n",
       "    <tr>\n",
       "      <th>38507</th>\n",
       "      <td>0.001538</td>\n",
       "      <td>0.666667</td>\n",
       "      <td>0.654894</td>\n",
       "      <td>0.133142</td>\n",
       "      <td>0.572</td>\n",
       "      <td>0.369528</td>\n",
       "      <td>0.261880</td>\n",
       "      <td>0.773235</td>\n",
       "      <td>0.197853</td>\n",
       "      <td>0.512899</td>\n",
       "      <td>0.866224</td>\n",
       "    </tr>\n",
       "    <tr>\n",
       "      <th>26277</th>\n",
       "      <td>0.063975</td>\n",
       "      <td>0.333333</td>\n",
       "      <td>0.537841</td>\n",
       "      <td>0.106322</td>\n",
       "      <td>0.516</td>\n",
       "      <td>0.290564</td>\n",
       "      <td>0.541761</td>\n",
       "      <td>0.773235</td>\n",
       "      <td>0.048887</td>\n",
       "      <td>0.293172</td>\n",
       "      <td>0.866224</td>\n",
       "    </tr>\n",
       "    <tr>\n",
       "      <th>39187</th>\n",
       "      <td>0.037942</td>\n",
       "      <td>0.333333</td>\n",
       "      <td>0.507568</td>\n",
       "      <td>0.093870</td>\n",
       "      <td>0.570</td>\n",
       "      <td>0.290564</td>\n",
       "      <td>0.196359</td>\n",
       "      <td>0.773235</td>\n",
       "      <td>0.502696</td>\n",
       "      <td>0.134257</td>\n",
       "      <td>0.866224</td>\n",
       "    </tr>\n",
       "    <tr>\n",
       "      <th>25229</th>\n",
       "      <td>0.012337</td>\n",
       "      <td>0.000000</td>\n",
       "      <td>0.879919</td>\n",
       "      <td>0.165709</td>\n",
       "      <td>0.860</td>\n",
       "      <td>0.072711</td>\n",
       "      <td>0.196359</td>\n",
       "      <td>0.773235</td>\n",
       "      <td>0.250563</td>\n",
       "      <td>0.512899</td>\n",
       "      <td>0.081319</td>\n",
       "    </tr>\n",
       "    <tr>\n",
       "      <th>...</th>\n",
       "      <td>...</td>\n",
       "      <td>...</td>\n",
       "      <td>...</td>\n",
       "      <td>...</td>\n",
       "      <td>...</td>\n",
       "      <td>...</td>\n",
       "      <td>...</td>\n",
       "      <td>...</td>\n",
       "      <td>...</td>\n",
       "      <td>...</td>\n",
       "      <td>...</td>\n",
       "    </tr>\n",
       "    <tr>\n",
       "      <th>13214</th>\n",
       "      <td>0.070948</td>\n",
       "      <td>0.000000</td>\n",
       "      <td>0.623613</td>\n",
       "      <td>0.106322</td>\n",
       "      <td>0.956</td>\n",
       "      <td>0.290564</td>\n",
       "      <td>0.541761</td>\n",
       "      <td>0.773235</td>\n",
       "      <td>0.502696</td>\n",
       "      <td>0.512899</td>\n",
       "      <td>0.866224</td>\n",
       "    </tr>\n",
       "    <tr>\n",
       "      <th>3759</th>\n",
       "      <td>0.064476</td>\n",
       "      <td>0.000000</td>\n",
       "      <td>0.544904</td>\n",
       "      <td>0.090996</td>\n",
       "      <td>0.834</td>\n",
       "      <td>0.107294</td>\n",
       "      <td>0.261880</td>\n",
       "      <td>0.773235</td>\n",
       "      <td>0.502696</td>\n",
       "      <td>0.293172</td>\n",
       "      <td>0.866224</td>\n",
       "    </tr>\n",
       "    <tr>\n",
       "      <th>18966</th>\n",
       "      <td>0.025175</td>\n",
       "      <td>0.000000</td>\n",
       "      <td>0.812311</td>\n",
       "      <td>0.118774</td>\n",
       "      <td>0.560</td>\n",
       "      <td>0.369528</td>\n",
       "      <td>0.541761</td>\n",
       "      <td>0.773235</td>\n",
       "      <td>0.197853</td>\n",
       "      <td>0.134257</td>\n",
       "      <td>0.081319</td>\n",
       "    </tr>\n",
       "    <tr>\n",
       "      <th>35505</th>\n",
       "      <td>0.003004</td>\n",
       "      <td>0.000000</td>\n",
       "      <td>0.528759</td>\n",
       "      <td>0.109195</td>\n",
       "      <td>0.768</td>\n",
       "      <td>0.369528</td>\n",
       "      <td>0.541761</td>\n",
       "      <td>0.773235</td>\n",
       "      <td>0.250563</td>\n",
       "      <td>0.293172</td>\n",
       "      <td>0.866224</td>\n",
       "    </tr>\n",
       "    <tr>\n",
       "      <th>34010</th>\n",
       "      <td>0.049814</td>\n",
       "      <td>0.333333</td>\n",
       "      <td>0.752775</td>\n",
       "      <td>0.159962</td>\n",
       "      <td>0.688</td>\n",
       "      <td>0.290564</td>\n",
       "      <td>0.541761</td>\n",
       "      <td>0.226765</td>\n",
       "      <td>0.197853</td>\n",
       "      <td>0.512899</td>\n",
       "      <td>0.866224</td>\n",
       "    </tr>\n",
       "  </tbody>\n",
       "</table>\n",
       "<p>27649 rows × 11 columns</p>\n",
       "</div>"
      ],
      "text/plain": [
       "       Property_Area  Frequency_of_Powercuts  Traffic_Density_Score  \\\n",
       "32218       0.033829                1.000000               0.593340   \n",
       "38507       0.001538                0.666667               0.654894   \n",
       "26277       0.063975                0.333333               0.537841   \n",
       "39187       0.037942                0.333333               0.507568   \n",
       "25229       0.012337                0.000000               0.879919   \n",
       "...              ...                     ...                    ...   \n",
       "13214       0.070948                0.000000               0.623613   \n",
       "3759        0.064476                0.000000               0.544904   \n",
       "18966       0.025175                0.000000               0.812311   \n",
       "35505       0.003004                0.000000               0.528759   \n",
       "34010       0.049814                0.333333               0.752775   \n",
       "\n",
       "       Air_Quality_Index  Neighborhood_Review  Freq_encoded_Property_Type  \\\n",
       "32218           0.084291                0.460                    0.146991   \n",
       "38507           0.133142                0.572                    0.369528   \n",
       "26277           0.106322                0.516                    0.290564   \n",
       "39187           0.093870                0.570                    0.290564   \n",
       "25229           0.165709                0.860                    0.072711   \n",
       "...                  ...                  ...                         ...   \n",
       "13214           0.106322                0.956                    0.290564   \n",
       "3759            0.090996                0.834                    0.107294   \n",
       "18966           0.118774                0.560                    0.369528   \n",
       "35505           0.109195                0.768                    0.369528   \n",
       "34010           0.159962                0.688                    0.290564   \n",
       "\n",
       "       Freq_encoded_Furnishing  Freq_encoded_Power_Backup  \\\n",
       "32218                 0.541761                   0.773235   \n",
       "38507                 0.261880                   0.773235   \n",
       "26277                 0.541761                   0.773235   \n",
       "39187                 0.196359                   0.773235   \n",
       "25229                 0.196359                   0.773235   \n",
       "...                        ...                        ...   \n",
       "13214                 0.541761                   0.773235   \n",
       "3759                  0.261880                   0.773235   \n",
       "18966                 0.541761                   0.773235   \n",
       "35505                 0.541761                   0.773235   \n",
       "34010                 0.541761                   0.226765   \n",
       "\n",
       "       Freq_encoded_Water_Supply  Freq_encoded_Crime_Rate  \\\n",
       "32218                   0.502696                 0.293172   \n",
       "38507                   0.197853                 0.512899   \n",
       "26277                   0.048887                 0.293172   \n",
       "39187                   0.502696                 0.134257   \n",
       "25229                   0.250563                 0.512899   \n",
       "...                          ...                      ...   \n",
       "13214                   0.502696                 0.512899   \n",
       "3759                    0.502696                 0.293172   \n",
       "18966                   0.197853                 0.134257   \n",
       "35505                   0.250563                 0.293172   \n",
       "34010                   0.197853                 0.512899   \n",
       "\n",
       "       Freq_encoded_Dust_and_Noise  \n",
       "32218                     0.866224  \n",
       "38507                     0.866224  \n",
       "26277                     0.866224  \n",
       "39187                     0.866224  \n",
       "25229                     0.081319  \n",
       "...                            ...  \n",
       "13214                     0.866224  \n",
       "3759                      0.866224  \n",
       "18966                     0.081319  \n",
       "35505                     0.866224  \n",
       "34010                     0.866224  \n",
       "\n",
       "[27649 rows x 11 columns]"
      ]
     },
     "execution_count": 87,
     "metadata": {},
     "output_type": "execute_result"
    }
   ],
   "source": [
    "x_train_new"
   ]
  },
  {
   "cell_type": "code",
   "execution_count": 88,
   "id": "4e5602be",
   "metadata": {},
   "outputs": [
    {
     "data": {
      "text/html": [
       "<div>\n",
       "<style scoped>\n",
       "    .dataframe tbody tr th:only-of-type {\n",
       "        vertical-align: middle;\n",
       "    }\n",
       "\n",
       "    .dataframe tbody tr th {\n",
       "        vertical-align: top;\n",
       "    }\n",
       "\n",
       "    .dataframe thead th {\n",
       "        text-align: right;\n",
       "    }\n",
       "</style>\n",
       "<table border=\"1\" class=\"dataframe\">\n",
       "  <thead>\n",
       "    <tr style=\"text-align: right;\">\n",
       "      <th></th>\n",
       "      <th>Property_Area</th>\n",
       "      <th>Frequency_of_Powercuts</th>\n",
       "      <th>Traffic_Density_Score</th>\n",
       "      <th>Air_Quality_Index</th>\n",
       "      <th>Neighborhood_Review</th>\n",
       "      <th>Freq_encoded_Property_Type</th>\n",
       "      <th>Freq_encoded_Furnishing</th>\n",
       "      <th>Freq_encoded_Power_Backup</th>\n",
       "      <th>Freq_encoded_Water_Supply</th>\n",
       "      <th>Freq_encoded_Crime_Rate</th>\n",
       "      <th>Freq_encoded_Dust_and_Noise</th>\n",
       "    </tr>\n",
       "  </thead>\n",
       "  <tbody>\n",
       "    <tr>\n",
       "      <th>32218</th>\n",
       "      <td>0.033829</td>\n",
       "      <td>1.000000</td>\n",
       "      <td>0.593340</td>\n",
       "      <td>0.084291</td>\n",
       "      <td>0.460</td>\n",
       "      <td>0.146991</td>\n",
       "      <td>0.541761</td>\n",
       "      <td>0.773235</td>\n",
       "      <td>0.502696</td>\n",
       "      <td>0.293172</td>\n",
       "      <td>0.866224</td>\n",
       "    </tr>\n",
       "    <tr>\n",
       "      <th>38507</th>\n",
       "      <td>0.001538</td>\n",
       "      <td>0.666667</td>\n",
       "      <td>0.654894</td>\n",
       "      <td>0.133142</td>\n",
       "      <td>0.572</td>\n",
       "      <td>0.369528</td>\n",
       "      <td>0.261880</td>\n",
       "      <td>0.773235</td>\n",
       "      <td>0.197853</td>\n",
       "      <td>0.512899</td>\n",
       "      <td>0.866224</td>\n",
       "    </tr>\n",
       "    <tr>\n",
       "      <th>26277</th>\n",
       "      <td>0.063975</td>\n",
       "      <td>0.333333</td>\n",
       "      <td>0.537841</td>\n",
       "      <td>0.106322</td>\n",
       "      <td>0.516</td>\n",
       "      <td>0.290564</td>\n",
       "      <td>0.541761</td>\n",
       "      <td>0.773235</td>\n",
       "      <td>0.048887</td>\n",
       "      <td>0.293172</td>\n",
       "      <td>0.866224</td>\n",
       "    </tr>\n",
       "    <tr>\n",
       "      <th>39187</th>\n",
       "      <td>0.037942</td>\n",
       "      <td>0.333333</td>\n",
       "      <td>0.507568</td>\n",
       "      <td>0.093870</td>\n",
       "      <td>0.570</td>\n",
       "      <td>0.290564</td>\n",
       "      <td>0.196359</td>\n",
       "      <td>0.773235</td>\n",
       "      <td>0.502696</td>\n",
       "      <td>0.134257</td>\n",
       "      <td>0.866224</td>\n",
       "    </tr>\n",
       "    <tr>\n",
       "      <th>25229</th>\n",
       "      <td>0.012337</td>\n",
       "      <td>0.000000</td>\n",
       "      <td>0.879919</td>\n",
       "      <td>0.165709</td>\n",
       "      <td>0.860</td>\n",
       "      <td>0.072711</td>\n",
       "      <td>0.196359</td>\n",
       "      <td>0.773235</td>\n",
       "      <td>0.250563</td>\n",
       "      <td>0.512899</td>\n",
       "      <td>0.081319</td>\n",
       "    </tr>\n",
       "    <tr>\n",
       "      <th>...</th>\n",
       "      <td>...</td>\n",
       "      <td>...</td>\n",
       "      <td>...</td>\n",
       "      <td>...</td>\n",
       "      <td>...</td>\n",
       "      <td>...</td>\n",
       "      <td>...</td>\n",
       "      <td>...</td>\n",
       "      <td>...</td>\n",
       "      <td>...</td>\n",
       "      <td>...</td>\n",
       "    </tr>\n",
       "    <tr>\n",
       "      <th>13214</th>\n",
       "      <td>0.070948</td>\n",
       "      <td>0.000000</td>\n",
       "      <td>0.623613</td>\n",
       "      <td>0.106322</td>\n",
       "      <td>0.956</td>\n",
       "      <td>0.290564</td>\n",
       "      <td>0.541761</td>\n",
       "      <td>0.773235</td>\n",
       "      <td>0.502696</td>\n",
       "      <td>0.512899</td>\n",
       "      <td>0.866224</td>\n",
       "    </tr>\n",
       "    <tr>\n",
       "      <th>3759</th>\n",
       "      <td>0.064476</td>\n",
       "      <td>0.000000</td>\n",
       "      <td>0.544904</td>\n",
       "      <td>0.090996</td>\n",
       "      <td>0.834</td>\n",
       "      <td>0.107294</td>\n",
       "      <td>0.261880</td>\n",
       "      <td>0.773235</td>\n",
       "      <td>0.502696</td>\n",
       "      <td>0.293172</td>\n",
       "      <td>0.866224</td>\n",
       "    </tr>\n",
       "    <tr>\n",
       "      <th>18966</th>\n",
       "      <td>0.025175</td>\n",
       "      <td>0.000000</td>\n",
       "      <td>0.812311</td>\n",
       "      <td>0.118774</td>\n",
       "      <td>0.560</td>\n",
       "      <td>0.369528</td>\n",
       "      <td>0.541761</td>\n",
       "      <td>0.773235</td>\n",
       "      <td>0.197853</td>\n",
       "      <td>0.134257</td>\n",
       "      <td>0.081319</td>\n",
       "    </tr>\n",
       "    <tr>\n",
       "      <th>35505</th>\n",
       "      <td>0.003004</td>\n",
       "      <td>0.000000</td>\n",
       "      <td>0.528759</td>\n",
       "      <td>0.109195</td>\n",
       "      <td>0.768</td>\n",
       "      <td>0.369528</td>\n",
       "      <td>0.541761</td>\n",
       "      <td>0.773235</td>\n",
       "      <td>0.250563</td>\n",
       "      <td>0.293172</td>\n",
       "      <td>0.866224</td>\n",
       "    </tr>\n",
       "    <tr>\n",
       "      <th>34010</th>\n",
       "      <td>0.049814</td>\n",
       "      <td>0.333333</td>\n",
       "      <td>0.752775</td>\n",
       "      <td>0.159962</td>\n",
       "      <td>0.688</td>\n",
       "      <td>0.290564</td>\n",
       "      <td>0.541761</td>\n",
       "      <td>0.226765</td>\n",
       "      <td>0.197853</td>\n",
       "      <td>0.512899</td>\n",
       "      <td>0.866224</td>\n",
       "    </tr>\n",
       "  </tbody>\n",
       "</table>\n",
       "<p>27649 rows × 11 columns</p>\n",
       "</div>"
      ],
      "text/plain": [
       "       Property_Area  Frequency_of_Powercuts  Traffic_Density_Score  \\\n",
       "32218       0.033829                1.000000               0.593340   \n",
       "38507       0.001538                0.666667               0.654894   \n",
       "26277       0.063975                0.333333               0.537841   \n",
       "39187       0.037942                0.333333               0.507568   \n",
       "25229       0.012337                0.000000               0.879919   \n",
       "...              ...                     ...                    ...   \n",
       "13214       0.070948                0.000000               0.623613   \n",
       "3759        0.064476                0.000000               0.544904   \n",
       "18966       0.025175                0.000000               0.812311   \n",
       "35505       0.003004                0.000000               0.528759   \n",
       "34010       0.049814                0.333333               0.752775   \n",
       "\n",
       "       Air_Quality_Index  Neighborhood_Review  Freq_encoded_Property_Type  \\\n",
       "32218           0.084291                0.460                    0.146991   \n",
       "38507           0.133142                0.572                    0.369528   \n",
       "26277           0.106322                0.516                    0.290564   \n",
       "39187           0.093870                0.570                    0.290564   \n",
       "25229           0.165709                0.860                    0.072711   \n",
       "...                  ...                  ...                         ...   \n",
       "13214           0.106322                0.956                    0.290564   \n",
       "3759            0.090996                0.834                    0.107294   \n",
       "18966           0.118774                0.560                    0.369528   \n",
       "35505           0.109195                0.768                    0.369528   \n",
       "34010           0.159962                0.688                    0.290564   \n",
       "\n",
       "       Freq_encoded_Furnishing  Freq_encoded_Power_Backup  \\\n",
       "32218                 0.541761                   0.773235   \n",
       "38507                 0.261880                   0.773235   \n",
       "26277                 0.541761                   0.773235   \n",
       "39187                 0.196359                   0.773235   \n",
       "25229                 0.196359                   0.773235   \n",
       "...                        ...                        ...   \n",
       "13214                 0.541761                   0.773235   \n",
       "3759                  0.261880                   0.773235   \n",
       "18966                 0.541761                   0.773235   \n",
       "35505                 0.541761                   0.773235   \n",
       "34010                 0.541761                   0.226765   \n",
       "\n",
       "       Freq_encoded_Water_Supply  Freq_encoded_Crime_Rate  \\\n",
       "32218                   0.502696                 0.293172   \n",
       "38507                   0.197853                 0.512899   \n",
       "26277                   0.048887                 0.293172   \n",
       "39187                   0.502696                 0.134257   \n",
       "25229                   0.250563                 0.512899   \n",
       "...                          ...                      ...   \n",
       "13214                   0.502696                 0.512899   \n",
       "3759                    0.502696                 0.293172   \n",
       "18966                   0.197853                 0.134257   \n",
       "35505                   0.250563                 0.293172   \n",
       "34010                   0.197853                 0.512899   \n",
       "\n",
       "       Freq_encoded_Dust_and_Noise  \n",
       "32218                     0.866224  \n",
       "38507                     0.866224  \n",
       "26277                     0.866224  \n",
       "39187                     0.866224  \n",
       "25229                     0.081319  \n",
       "...                            ...  \n",
       "13214                     0.866224  \n",
       "3759                      0.866224  \n",
       "18966                     0.081319  \n",
       "35505                     0.866224  \n",
       "34010                     0.866224  \n",
       "\n",
       "[27649 rows x 11 columns]"
      ]
     },
     "execution_count": 88,
     "metadata": {},
     "output_type": "execute_result"
    }
   ],
   "source": [
    "x_train"
   ]
  },
  {
   "cell_type": "code",
   "execution_count": 90,
   "id": "0e36d47b",
   "metadata": {},
   "outputs": [],
   "source": [
    "x_train_new = x_train_new.drop('Neighborhood_Review', axis = 1, inplace = True)"
   ]
  },
  {
   "cell_type": "code",
   "execution_count": 94,
   "id": "40637a2e",
   "metadata": {},
   "outputs": [
    {
     "ename": "TypeError",
     "evalue": "unsupported operand type(s) for -: 'NoneType' and 'NoneType'",
     "output_type": "error",
     "traceback": [
      "\u001b[1;31m---------------------------------------------------------------------------\u001b[0m",
      "\u001b[1;31mTypeError\u001b[0m                                 Traceback (most recent call last)",
      "\u001b[1;32m<ipython-input-94-860fa1506b3a>\u001b[0m in \u001b[0;36m<module>\u001b[1;34m\u001b[0m\n\u001b[1;32m----> 1\u001b[1;33m \u001b[0mlogm1\u001b[0m \u001b[1;33m=\u001b[0m \u001b[0msm\u001b[0m\u001b[1;33m.\u001b[0m\u001b[0mGLM\u001b[0m\u001b[1;33m(\u001b[0m\u001b[0my_train\u001b[0m\u001b[1;33m,\u001b[0m\u001b[1;33m(\u001b[0m\u001b[0msm\u001b[0m\u001b[1;33m.\u001b[0m\u001b[0madd_constant\u001b[0m\u001b[1;33m(\u001b[0m\u001b[0mx_train_new\u001b[0m\u001b[1;33m)\u001b[0m\u001b[1;33m)\u001b[0m\u001b[1;33m,\u001b[0m \u001b[0mfamily\u001b[0m \u001b[1;33m=\u001b[0m \u001b[0msm\u001b[0m\u001b[1;33m.\u001b[0m\u001b[0mfamilies\u001b[0m\u001b[1;33m.\u001b[0m\u001b[0mBinomial\u001b[0m\u001b[1;33m(\u001b[0m\u001b[1;33m)\u001b[0m\u001b[1;33m)\u001b[0m\u001b[1;33m\u001b[0m\u001b[1;33m\u001b[0m\u001b[0m\n\u001b[0m\u001b[0;32m      2\u001b[0m \u001b[0mlogm1\u001b[0m\u001b[1;33m.\u001b[0m\u001b[0mfit\u001b[0m\u001b[1;33m(\u001b[0m\u001b[1;33m)\u001b[0m\u001b[1;33m.\u001b[0m\u001b[0msummary\u001b[0m\u001b[1;33m(\u001b[0m\u001b[1;33m)\u001b[0m\u001b[1;33m\u001b[0m\u001b[1;33m\u001b[0m\u001b[0m\n",
      "\u001b[1;32m~\\anaconda3\\lib\\site-packages\\statsmodels\\tools\\tools.py\u001b[0m in \u001b[0;36madd_constant\u001b[1;34m(data, prepend, has_constant)\u001b[0m\n\u001b[0;32m    336\u001b[0m         \u001b[1;32mraise\u001b[0m \u001b[0mValueError\u001b[0m\u001b[1;33m(\u001b[0m\u001b[1;34m'Only implemented for 2-dimensional arrays'\u001b[0m\u001b[1;33m)\u001b[0m\u001b[1;33m\u001b[0m\u001b[1;33m\u001b[0m\u001b[0m\n\u001b[0;32m    337\u001b[0m \u001b[1;33m\u001b[0m\u001b[0m\n\u001b[1;32m--> 338\u001b[1;33m     \u001b[0mis_nonzero_const\u001b[0m \u001b[1;33m=\u001b[0m \u001b[0mnp\u001b[0m\u001b[1;33m.\u001b[0m\u001b[0mptp\u001b[0m\u001b[1;33m(\u001b[0m\u001b[0mx\u001b[0m\u001b[1;33m,\u001b[0m \u001b[0maxis\u001b[0m\u001b[1;33m=\u001b[0m\u001b[1;36m0\u001b[0m\u001b[1;33m)\u001b[0m \u001b[1;33m==\u001b[0m \u001b[1;36m0\u001b[0m\u001b[1;33m\u001b[0m\u001b[1;33m\u001b[0m\u001b[0m\n\u001b[0m\u001b[0;32m    339\u001b[0m     \u001b[0mis_nonzero_const\u001b[0m \u001b[1;33m&=\u001b[0m \u001b[0mnp\u001b[0m\u001b[1;33m.\u001b[0m\u001b[0mall\u001b[0m\u001b[1;33m(\u001b[0m\u001b[0mx\u001b[0m \u001b[1;33m!=\u001b[0m \u001b[1;36m0.0\u001b[0m\u001b[1;33m,\u001b[0m \u001b[0maxis\u001b[0m\u001b[1;33m=\u001b[0m\u001b[1;36m0\u001b[0m\u001b[1;33m)\u001b[0m\u001b[1;33m\u001b[0m\u001b[1;33m\u001b[0m\u001b[0m\n\u001b[0;32m    340\u001b[0m     \u001b[1;32mif\u001b[0m \u001b[0mis_nonzero_const\u001b[0m\u001b[1;33m.\u001b[0m\u001b[0many\u001b[0m\u001b[1;33m(\u001b[0m\u001b[1;33m)\u001b[0m\u001b[1;33m:\u001b[0m\u001b[1;33m\u001b[0m\u001b[1;33m\u001b[0m\u001b[0m\n",
      "\u001b[1;32m<__array_function__ internals>\u001b[0m in \u001b[0;36mptp\u001b[1;34m(*args, **kwargs)\u001b[0m\n",
      "\u001b[1;32m~\\anaconda3\\lib\\site-packages\\numpy\\core\\fromnumeric.py\u001b[0m in \u001b[0;36mptp\u001b[1;34m(a, axis, out, keepdims)\u001b[0m\n\u001b[0;32m   2607\u001b[0m         \u001b[1;32melse\u001b[0m\u001b[1;33m:\u001b[0m\u001b[1;33m\u001b[0m\u001b[1;33m\u001b[0m\u001b[0m\n\u001b[0;32m   2608\u001b[0m             \u001b[1;32mreturn\u001b[0m \u001b[0mptp\u001b[0m\u001b[1;33m(\u001b[0m\u001b[0maxis\u001b[0m\u001b[1;33m=\u001b[0m\u001b[0maxis\u001b[0m\u001b[1;33m,\u001b[0m \u001b[0mout\u001b[0m\u001b[1;33m=\u001b[0m\u001b[0mout\u001b[0m\u001b[1;33m,\u001b[0m \u001b[1;33m**\u001b[0m\u001b[0mkwargs\u001b[0m\u001b[1;33m)\u001b[0m\u001b[1;33m\u001b[0m\u001b[1;33m\u001b[0m\u001b[0m\n\u001b[1;32m-> 2609\u001b[1;33m     \u001b[1;32mreturn\u001b[0m \u001b[0m_methods\u001b[0m\u001b[1;33m.\u001b[0m\u001b[0m_ptp\u001b[0m\u001b[1;33m(\u001b[0m\u001b[0ma\u001b[0m\u001b[1;33m,\u001b[0m \u001b[0maxis\u001b[0m\u001b[1;33m=\u001b[0m\u001b[0maxis\u001b[0m\u001b[1;33m,\u001b[0m \u001b[0mout\u001b[0m\u001b[1;33m=\u001b[0m\u001b[0mout\u001b[0m\u001b[1;33m,\u001b[0m \u001b[1;33m**\u001b[0m\u001b[0mkwargs\u001b[0m\u001b[1;33m)\u001b[0m\u001b[1;33m\u001b[0m\u001b[1;33m\u001b[0m\u001b[0m\n\u001b[0m\u001b[0;32m   2610\u001b[0m \u001b[1;33m\u001b[0m\u001b[0m\n\u001b[0;32m   2611\u001b[0m \u001b[1;33m\u001b[0m\u001b[0m\n",
      "\u001b[1;32m~\\anaconda3\\lib\\site-packages\\numpy\\core\\_methods.py\u001b[0m in \u001b[0;36m_ptp\u001b[1;34m(a, axis, out, keepdims)\u001b[0m\n\u001b[0;32m    272\u001b[0m \u001b[1;33m\u001b[0m\u001b[0m\n\u001b[0;32m    273\u001b[0m \u001b[1;32mdef\u001b[0m \u001b[0m_ptp\u001b[0m\u001b[1;33m(\u001b[0m\u001b[0ma\u001b[0m\u001b[1;33m,\u001b[0m \u001b[0maxis\u001b[0m\u001b[1;33m=\u001b[0m\u001b[1;32mNone\u001b[0m\u001b[1;33m,\u001b[0m \u001b[0mout\u001b[0m\u001b[1;33m=\u001b[0m\u001b[1;32mNone\u001b[0m\u001b[1;33m,\u001b[0m \u001b[0mkeepdims\u001b[0m\u001b[1;33m=\u001b[0m\u001b[1;32mFalse\u001b[0m\u001b[1;33m)\u001b[0m\u001b[1;33m:\u001b[0m\u001b[1;33m\u001b[0m\u001b[1;33m\u001b[0m\u001b[0m\n\u001b[1;32m--> 274\u001b[1;33m     return um.subtract(\n\u001b[0m\u001b[0;32m    275\u001b[0m         \u001b[0mumr_maximum\u001b[0m\u001b[1;33m(\u001b[0m\u001b[0ma\u001b[0m\u001b[1;33m,\u001b[0m \u001b[0maxis\u001b[0m\u001b[1;33m,\u001b[0m \u001b[1;32mNone\u001b[0m\u001b[1;33m,\u001b[0m \u001b[0mout\u001b[0m\u001b[1;33m,\u001b[0m \u001b[0mkeepdims\u001b[0m\u001b[1;33m)\u001b[0m\u001b[1;33m,\u001b[0m\u001b[1;33m\u001b[0m\u001b[1;33m\u001b[0m\u001b[0m\n\u001b[0;32m    276\u001b[0m         \u001b[0mumr_minimum\u001b[0m\u001b[1;33m(\u001b[0m\u001b[0ma\u001b[0m\u001b[1;33m,\u001b[0m \u001b[0maxis\u001b[0m\u001b[1;33m,\u001b[0m \u001b[1;32mNone\u001b[0m\u001b[1;33m,\u001b[0m \u001b[1;32mNone\u001b[0m\u001b[1;33m,\u001b[0m \u001b[0mkeepdims\u001b[0m\u001b[1;33m)\u001b[0m\u001b[1;33m,\u001b[0m\u001b[1;33m\u001b[0m\u001b[1;33m\u001b[0m\u001b[0m\n",
      "\u001b[1;31mTypeError\u001b[0m: unsupported operand type(s) for -: 'NoneType' and 'NoneType'"
     ]
    }
   ],
   "source": [
    "logm1 = sm.GLM(y_train,(sm.add_constant(x_train_new)), family = sm.families.Binomial())\n",
    "logm1.fit().summary()"
   ]
  },
  {
   "cell_type": "code",
   "execution_count": null,
   "id": "9b758dec",
   "metadata": {},
   "outputs": [],
   "source": [
    "rfe = RFE(xg_reg, n_features_to_select=15, step=1)   # running RFE with 15 variables as output\n",
    "rfe = rfe.fit(x_train, y_train)"
   ]
  },
  {
   "cell_type": "code",
   "execution_count": 93,
   "id": "e3065d1a",
   "metadata": {},
   "outputs": [
    {
     "ename": "TypeError",
     "evalue": "unsupported operand type(s) for -: 'NoneType' and 'NoneType'",
     "output_type": "error",
     "traceback": [
      "\u001b[1;31m---------------------------------------------------------------------------\u001b[0m",
      "\u001b[1;31mTypeError\u001b[0m                                 Traceback (most recent call last)",
      "\u001b[1;32m<ipython-input-93-80f814ccb905>\u001b[0m in \u001b[0;36m<module>\u001b[1;34m\u001b[0m\n\u001b[1;32m----> 1\u001b[1;33m \u001b[0mx_train_sm\u001b[0m \u001b[1;33m=\u001b[0m \u001b[0msm\u001b[0m\u001b[1;33m.\u001b[0m\u001b[0madd_constant\u001b[0m\u001b[1;33m(\u001b[0m\u001b[0mx_train_new\u001b[0m\u001b[1;33m)\u001b[0m\u001b[1;33m\u001b[0m\u001b[1;33m\u001b[0m\u001b[0m\n\u001b[0m\u001b[0;32m      2\u001b[0m \u001b[0mlogm2\u001b[0m \u001b[1;33m=\u001b[0m \u001b[0msm\u001b[0m\u001b[1;33m.\u001b[0m\u001b[0mGLM\u001b[0m\u001b[1;33m(\u001b[0m\u001b[0my_train\u001b[0m\u001b[1;33m,\u001b[0m \u001b[0mx_train_sm\u001b[0m\u001b[1;33m,\u001b[0m \u001b[0mfamily\u001b[0m \u001b[1;33m=\u001b[0m \u001b[0msm\u001b[0m\u001b[1;33m.\u001b[0m\u001b[0mfamilies\u001b[0m\u001b[1;33m.\u001b[0m\u001b[0mBinomial\u001b[0m\u001b[1;33m(\u001b[0m\u001b[1;33m)\u001b[0m\u001b[1;33m)\u001b[0m\u001b[1;33m\u001b[0m\u001b[1;33m\u001b[0m\u001b[0m\n\u001b[0;32m      3\u001b[0m \u001b[0mres\u001b[0m \u001b[1;33m=\u001b[0m \u001b[0mlogm2\u001b[0m\u001b[1;33m.\u001b[0m\u001b[0mfit\u001b[0m\u001b[1;33m(\u001b[0m\u001b[1;33m)\u001b[0m\u001b[1;33m\u001b[0m\u001b[1;33m\u001b[0m\u001b[0m\n\u001b[0;32m      4\u001b[0m \u001b[0mres\u001b[0m\u001b[1;33m.\u001b[0m\u001b[0msummary\u001b[0m\u001b[1;33m(\u001b[0m\u001b[1;33m)\u001b[0m\u001b[1;33m\u001b[0m\u001b[1;33m\u001b[0m\u001b[0m\n",
      "\u001b[1;32m~\\anaconda3\\lib\\site-packages\\statsmodels\\tools\\tools.py\u001b[0m in \u001b[0;36madd_constant\u001b[1;34m(data, prepend, has_constant)\u001b[0m\n\u001b[0;32m    336\u001b[0m         \u001b[1;32mraise\u001b[0m \u001b[0mValueError\u001b[0m\u001b[1;33m(\u001b[0m\u001b[1;34m'Only implemented for 2-dimensional arrays'\u001b[0m\u001b[1;33m)\u001b[0m\u001b[1;33m\u001b[0m\u001b[1;33m\u001b[0m\u001b[0m\n\u001b[0;32m    337\u001b[0m \u001b[1;33m\u001b[0m\u001b[0m\n\u001b[1;32m--> 338\u001b[1;33m     \u001b[0mis_nonzero_const\u001b[0m \u001b[1;33m=\u001b[0m \u001b[0mnp\u001b[0m\u001b[1;33m.\u001b[0m\u001b[0mptp\u001b[0m\u001b[1;33m(\u001b[0m\u001b[0mx\u001b[0m\u001b[1;33m,\u001b[0m \u001b[0maxis\u001b[0m\u001b[1;33m=\u001b[0m\u001b[1;36m0\u001b[0m\u001b[1;33m)\u001b[0m \u001b[1;33m==\u001b[0m \u001b[1;36m0\u001b[0m\u001b[1;33m\u001b[0m\u001b[1;33m\u001b[0m\u001b[0m\n\u001b[0m\u001b[0;32m    339\u001b[0m     \u001b[0mis_nonzero_const\u001b[0m \u001b[1;33m&=\u001b[0m \u001b[0mnp\u001b[0m\u001b[1;33m.\u001b[0m\u001b[0mall\u001b[0m\u001b[1;33m(\u001b[0m\u001b[0mx\u001b[0m \u001b[1;33m!=\u001b[0m \u001b[1;36m0.0\u001b[0m\u001b[1;33m,\u001b[0m \u001b[0maxis\u001b[0m\u001b[1;33m=\u001b[0m\u001b[1;36m0\u001b[0m\u001b[1;33m)\u001b[0m\u001b[1;33m\u001b[0m\u001b[1;33m\u001b[0m\u001b[0m\n\u001b[0;32m    340\u001b[0m     \u001b[1;32mif\u001b[0m \u001b[0mis_nonzero_const\u001b[0m\u001b[1;33m.\u001b[0m\u001b[0many\u001b[0m\u001b[1;33m(\u001b[0m\u001b[1;33m)\u001b[0m\u001b[1;33m:\u001b[0m\u001b[1;33m\u001b[0m\u001b[1;33m\u001b[0m\u001b[0m\n",
      "\u001b[1;32m<__array_function__ internals>\u001b[0m in \u001b[0;36mptp\u001b[1;34m(*args, **kwargs)\u001b[0m\n",
      "\u001b[1;32m~\\anaconda3\\lib\\site-packages\\numpy\\core\\fromnumeric.py\u001b[0m in \u001b[0;36mptp\u001b[1;34m(a, axis, out, keepdims)\u001b[0m\n\u001b[0;32m   2607\u001b[0m         \u001b[1;32melse\u001b[0m\u001b[1;33m:\u001b[0m\u001b[1;33m\u001b[0m\u001b[1;33m\u001b[0m\u001b[0m\n\u001b[0;32m   2608\u001b[0m             \u001b[1;32mreturn\u001b[0m \u001b[0mptp\u001b[0m\u001b[1;33m(\u001b[0m\u001b[0maxis\u001b[0m\u001b[1;33m=\u001b[0m\u001b[0maxis\u001b[0m\u001b[1;33m,\u001b[0m \u001b[0mout\u001b[0m\u001b[1;33m=\u001b[0m\u001b[0mout\u001b[0m\u001b[1;33m,\u001b[0m \u001b[1;33m**\u001b[0m\u001b[0mkwargs\u001b[0m\u001b[1;33m)\u001b[0m\u001b[1;33m\u001b[0m\u001b[1;33m\u001b[0m\u001b[0m\n\u001b[1;32m-> 2609\u001b[1;33m     \u001b[1;32mreturn\u001b[0m \u001b[0m_methods\u001b[0m\u001b[1;33m.\u001b[0m\u001b[0m_ptp\u001b[0m\u001b[1;33m(\u001b[0m\u001b[0ma\u001b[0m\u001b[1;33m,\u001b[0m \u001b[0maxis\u001b[0m\u001b[1;33m=\u001b[0m\u001b[0maxis\u001b[0m\u001b[1;33m,\u001b[0m \u001b[0mout\u001b[0m\u001b[1;33m=\u001b[0m\u001b[0mout\u001b[0m\u001b[1;33m,\u001b[0m \u001b[1;33m**\u001b[0m\u001b[0mkwargs\u001b[0m\u001b[1;33m)\u001b[0m\u001b[1;33m\u001b[0m\u001b[1;33m\u001b[0m\u001b[0m\n\u001b[0m\u001b[0;32m   2610\u001b[0m \u001b[1;33m\u001b[0m\u001b[0m\n\u001b[0;32m   2611\u001b[0m \u001b[1;33m\u001b[0m\u001b[0m\n",
      "\u001b[1;32m~\\anaconda3\\lib\\site-packages\\numpy\\core\\_methods.py\u001b[0m in \u001b[0;36m_ptp\u001b[1;34m(a, axis, out, keepdims)\u001b[0m\n\u001b[0;32m    272\u001b[0m \u001b[1;33m\u001b[0m\u001b[0m\n\u001b[0;32m    273\u001b[0m \u001b[1;32mdef\u001b[0m \u001b[0m_ptp\u001b[0m\u001b[1;33m(\u001b[0m\u001b[0ma\u001b[0m\u001b[1;33m,\u001b[0m \u001b[0maxis\u001b[0m\u001b[1;33m=\u001b[0m\u001b[1;32mNone\u001b[0m\u001b[1;33m,\u001b[0m \u001b[0mout\u001b[0m\u001b[1;33m=\u001b[0m\u001b[1;32mNone\u001b[0m\u001b[1;33m,\u001b[0m \u001b[0mkeepdims\u001b[0m\u001b[1;33m=\u001b[0m\u001b[1;32mFalse\u001b[0m\u001b[1;33m)\u001b[0m\u001b[1;33m:\u001b[0m\u001b[1;33m\u001b[0m\u001b[1;33m\u001b[0m\u001b[0m\n\u001b[1;32m--> 274\u001b[1;33m     return um.subtract(\n\u001b[0m\u001b[0;32m    275\u001b[0m         \u001b[0mumr_maximum\u001b[0m\u001b[1;33m(\u001b[0m\u001b[0ma\u001b[0m\u001b[1;33m,\u001b[0m \u001b[0maxis\u001b[0m\u001b[1;33m,\u001b[0m \u001b[1;32mNone\u001b[0m\u001b[1;33m,\u001b[0m \u001b[0mout\u001b[0m\u001b[1;33m,\u001b[0m \u001b[0mkeepdims\u001b[0m\u001b[1;33m)\u001b[0m\u001b[1;33m,\u001b[0m\u001b[1;33m\u001b[0m\u001b[1;33m\u001b[0m\u001b[0m\n\u001b[0;32m    276\u001b[0m         \u001b[0mumr_minimum\u001b[0m\u001b[1;33m(\u001b[0m\u001b[0ma\u001b[0m\u001b[1;33m,\u001b[0m \u001b[0maxis\u001b[0m\u001b[1;33m,\u001b[0m \u001b[1;32mNone\u001b[0m\u001b[1;33m,\u001b[0m \u001b[1;32mNone\u001b[0m\u001b[1;33m,\u001b[0m \u001b[0mkeepdims\u001b[0m\u001b[1;33m)\u001b[0m\u001b[1;33m,\u001b[0m\u001b[1;33m\u001b[0m\u001b[1;33m\u001b[0m\u001b[0m\n",
      "\u001b[1;31mTypeError\u001b[0m: unsupported operand type(s) for -: 'NoneType' and 'NoneType'"
     ]
    }
   ],
   "source": [
    "x_train_sm = sm.add_constant(x_train_new)\n",
    "logm2 = sm.GLM(y_train, x_train_sm, family = sm.families.Binomial())\n",
    "res = logm2.fit()\n",
    "res.summary()"
   ]
  },
  {
   "cell_type": "code",
   "execution_count": 92,
   "id": "7c1c96fc",
   "metadata": {},
   "outputs": [
    {
     "ename": "AttributeError",
     "evalue": "'NoneType' object has no attribute 'columns'",
     "output_type": "error",
     "traceback": [
      "\u001b[1;31m---------------------------------------------------------------------------\u001b[0m",
      "\u001b[1;31mAttributeError\u001b[0m                            Traceback (most recent call last)",
      "\u001b[1;32m<ipython-input-92-018a0b7dd3bd>\u001b[0m in \u001b[0;36m<module>\u001b[1;34m\u001b[0m\n\u001b[0;32m      1\u001b[0m \u001b[0mvif\u001b[0m \u001b[1;33m=\u001b[0m \u001b[0mpd\u001b[0m\u001b[1;33m.\u001b[0m\u001b[0mDataFrame\u001b[0m\u001b[1;33m(\u001b[0m\u001b[1;33m)\u001b[0m\u001b[1;33m\u001b[0m\u001b[1;33m\u001b[0m\u001b[0m\n\u001b[1;32m----> 2\u001b[1;33m \u001b[0mvif\u001b[0m\u001b[1;33m[\u001b[0m\u001b[1;34m'Features'\u001b[0m\u001b[1;33m]\u001b[0m \u001b[1;33m=\u001b[0m \u001b[0mx_train_new\u001b[0m\u001b[1;33m.\u001b[0m\u001b[0mcolumns\u001b[0m\u001b[1;33m\u001b[0m\u001b[1;33m\u001b[0m\u001b[0m\n\u001b[0m\u001b[0;32m      3\u001b[0m \u001b[0mvif\u001b[0m\u001b[1;33m[\u001b[0m\u001b[1;34m'VIF'\u001b[0m\u001b[1;33m]\u001b[0m \u001b[1;33m=\u001b[0m \u001b[1;33m[\u001b[0m\u001b[0mvariance_inflation_factor\u001b[0m\u001b[1;33m(\u001b[0m\u001b[0mx_train_new\u001b[0m\u001b[1;33m.\u001b[0m\u001b[0mvalues\u001b[0m\u001b[1;33m,\u001b[0m \u001b[0mi\u001b[0m\u001b[1;33m)\u001b[0m \u001b[1;32mfor\u001b[0m \u001b[0mi\u001b[0m \u001b[1;32min\u001b[0m \u001b[0mrange\u001b[0m\u001b[1;33m(\u001b[0m\u001b[0mx_train_new\u001b[0m\u001b[1;33m.\u001b[0m\u001b[0mshape\u001b[0m\u001b[1;33m[\u001b[0m\u001b[1;36m1\u001b[0m\u001b[1;33m]\u001b[0m\u001b[1;33m)\u001b[0m\u001b[1;33m]\u001b[0m\u001b[1;33m\u001b[0m\u001b[1;33m\u001b[0m\u001b[0m\n\u001b[0;32m      4\u001b[0m \u001b[0mvif\u001b[0m\u001b[1;33m[\u001b[0m\u001b[1;34m'VIF'\u001b[0m\u001b[1;33m]\u001b[0m \u001b[1;33m=\u001b[0m \u001b[0mround\u001b[0m\u001b[1;33m(\u001b[0m\u001b[0mvif\u001b[0m\u001b[1;33m[\u001b[0m\u001b[1;34m'VIF'\u001b[0m\u001b[1;33m]\u001b[0m\u001b[1;33m,\u001b[0m \u001b[1;36m2\u001b[0m\u001b[1;33m)\u001b[0m\u001b[1;33m\u001b[0m\u001b[1;33m\u001b[0m\u001b[0m\n\u001b[0;32m      5\u001b[0m \u001b[0mvif\u001b[0m \u001b[1;33m=\u001b[0m \u001b[0mvif\u001b[0m\u001b[1;33m.\u001b[0m\u001b[0msort_values\u001b[0m\u001b[1;33m(\u001b[0m\u001b[0mby\u001b[0m \u001b[1;33m=\u001b[0m \u001b[1;34m\"VIF\"\u001b[0m\u001b[1;33m,\u001b[0m \u001b[0mascending\u001b[0m \u001b[1;33m=\u001b[0m \u001b[1;32mFalse\u001b[0m\u001b[1;33m)\u001b[0m\u001b[1;33m\u001b[0m\u001b[1;33m\u001b[0m\u001b[0m\n",
      "\u001b[1;31mAttributeError\u001b[0m: 'NoneType' object has no attribute 'columns'"
     ]
    }
   ],
   "source": [
    "vif = pd.DataFrame()\n",
    "vif['Features'] = x_train_new.columns\n",
    "vif['VIF'] = [variance_inflation_factor(x_train_new.values, i) for i in range(x_train_new.shape[1])]\n",
    "vif['VIF'] = round(vif['VIF'], 2)\n",
    "vif = vif.sort_values(by = \"VIF\", ascending = False)\n",
    "vif"
   ]
  },
  {
   "cell_type": "code",
   "execution_count": null,
   "id": "7570ec5c",
   "metadata": {},
   "outputs": [],
   "source": []
  }
 ],
 "metadata": {
  "kernelspec": {
   "display_name": "Python 3",
   "language": "python",
   "name": "python3"
  },
  "language_info": {
   "codemirror_mode": {
    "name": "ipython",
    "version": 3
   },
   "file_extension": ".py",
   "mimetype": "text/x-python",
   "name": "python",
   "nbconvert_exporter": "python",
   "pygments_lexer": "ipython3",
   "version": "3.8.8"
  }
 },
 "nbformat": 4,
 "nbformat_minor": 5
}
